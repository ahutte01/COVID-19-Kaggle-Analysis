{
 "cells": [
  {
   "cell_type": "code",
   "execution_count": 1,
   "metadata": {},
   "outputs": [],
   "source": [
    "## April 24th, 2020\n",
    "## purpose: what can we glean from COVID articles? Can we use NLP to see how has sentiment changed over time?\n",
    "## By: Amanda Hutter"
   ]
  },
  {
   "cell_type": "code",
   "execution_count": 2,
   "metadata": {},
   "outputs": [],
   "source": [
    "import pandas as pd\n",
    "import numpy as np\n",
    "import matplotlib.pyplot as plt \n",
    "import os \n",
    "import datetime\n",
    "from datetime import timedelta\n",
    "\n",
    "import glob\n",
    "import json\n",
    "\n",
    "\n",
    "pd.set_option('display.max_columns', None)"
   ]
  },
  {
   "cell_type": "code",
   "execution_count": 3,
   "metadata": {},
   "outputs": [
    {
     "data": {
      "text/plain": [
       "['CORD19-Analysis.ipynb',\n",
       " '.DS_Store',\n",
       " 'custom_license',\n",
       " 'metadata.readme',\n",
       " 'json_schema.txt',\n",
       " 'noncomm_use_subset',\n",
       " 'cord_19_embeddings_4_17',\n",
       " 'metadata.csv',\n",
       " '.ipynb_checkpoints',\n",
       " 'biorxiv_medrxiv',\n",
       " 'COVID.DATA.LIC.AGMT.pdf',\n",
       " 'comm_use_subset']"
      ]
     },
     "execution_count": 3,
     "metadata": {},
     "output_type": "execute_result"
    }
   ],
   "source": [
    "#os.getcwd()\n",
    "rootfolder = \"/Users/amandahutter/Documents/PythonCode/KaggleFiles/COVID/CORD-19-research-challenge\"\n",
    "os.chdir(rootfolder)\n",
    "os.listdir()"
   ]
  },
  {
   "cell_type": "markdown",
   "metadata": {},
   "source": [
    "## Read in Metadata file"
   ]
  },
  {
   "cell_type": "code",
   "execution_count": 4,
   "metadata": {},
   "outputs": [],
   "source": [
    "date_cols = ['publish_time']\n",
    "meta = pd.read_csv(\"metadata.csv\", engine = 'python', \n",
    "                   parse_dates = date_cols, \n",
    "                   dtype = {'pubmed_id': str, 'doi': str, 'Microsoft Academic Paper ID':str}\n",
    "                  )"
   ]
  },
  {
   "cell_type": "code",
   "execution_count": 5,
   "metadata": {},
   "outputs": [
    {
     "data": {
      "text/html": [
       "<div>\n",
       "<style scoped>\n",
       "    .dataframe tbody tr th:only-of-type {\n",
       "        vertical-align: middle;\n",
       "    }\n",
       "\n",
       "    .dataframe tbody tr th {\n",
       "        vertical-align: top;\n",
       "    }\n",
       "\n",
       "    .dataframe thead th {\n",
       "        text-align: right;\n",
       "    }\n",
       "</style>\n",
       "<table border=\"1\" class=\"dataframe\">\n",
       "  <thead>\n",
       "    <tr style=\"text-align: right;\">\n",
       "      <th></th>\n",
       "      <th>cord_uid</th>\n",
       "      <th>sha</th>\n",
       "      <th>source_x</th>\n",
       "      <th>title</th>\n",
       "      <th>doi</th>\n",
       "      <th>pmcid</th>\n",
       "      <th>pubmed_id</th>\n",
       "      <th>license</th>\n",
       "      <th>abstract</th>\n",
       "      <th>publish_time</th>\n",
       "      <th>authors</th>\n",
       "      <th>journal</th>\n",
       "      <th>Microsoft Academic Paper ID</th>\n",
       "      <th>WHO #Covidence</th>\n",
       "      <th>has_pdf_parse</th>\n",
       "      <th>has_pmc_xml_parse</th>\n",
       "      <th>full_text_file</th>\n",
       "      <th>url</th>\n",
       "    </tr>\n",
       "  </thead>\n",
       "  <tbody>\n",
       "    <tr>\n",
       "      <th>0</th>\n",
       "      <td>xqhn0vbp</td>\n",
       "      <td>1e1286db212100993d03cc22374b624f7caee956</td>\n",
       "      <td>PMC</td>\n",
       "      <td>Airborne rhinovirus detection and effect of ul...</td>\n",
       "      <td>10.1186/1471-2458-3-5</td>\n",
       "      <td>PMC140314</td>\n",
       "      <td>12525263</td>\n",
       "      <td>no-cc</td>\n",
       "      <td>BACKGROUND: Rhinovirus, the most common cause ...</td>\n",
       "      <td>2003-01-13</td>\n",
       "      <td>Myatt, Theodore A; Johnston, Sebastian L; Rudn...</td>\n",
       "      <td>BMC Public Health</td>\n",
       "      <td>NaN</td>\n",
       "      <td>NaN</td>\n",
       "      <td>True</td>\n",
       "      <td>True</td>\n",
       "      <td>custom_license</td>\n",
       "      <td>https://www.ncbi.nlm.nih.gov/pmc/articles/PMC1...</td>\n",
       "    </tr>\n",
       "    <tr>\n",
       "      <th>1</th>\n",
       "      <td>gi6uaa83</td>\n",
       "      <td>8ae137c8da1607b3a8e4c946c07ca8bda67f88ac</td>\n",
       "      <td>PMC</td>\n",
       "      <td>Discovering human history from stomach bacteria</td>\n",
       "      <td>10.1186/gb-2003-4-5-213</td>\n",
       "      <td>PMC156578</td>\n",
       "      <td>12734001</td>\n",
       "      <td>no-cc</td>\n",
       "      <td>Recent analyses of human pathogens have reveal...</td>\n",
       "      <td>2003-04-28</td>\n",
       "      <td>Disotell, Todd R</td>\n",
       "      <td>Genome Biol</td>\n",
       "      <td>NaN</td>\n",
       "      <td>NaN</td>\n",
       "      <td>True</td>\n",
       "      <td>True</td>\n",
       "      <td>custom_license</td>\n",
       "      <td>https://www.ncbi.nlm.nih.gov/pmc/articles/PMC1...</td>\n",
       "    </tr>\n",
       "    <tr>\n",
       "      <th>2</th>\n",
       "      <td>le0ogx1s</td>\n",
       "      <td>NaN</td>\n",
       "      <td>PMC</td>\n",
       "      <td>A new recruit for the army of the men of death</td>\n",
       "      <td>10.1186/gb-2003-4-7-113</td>\n",
       "      <td>PMC193621</td>\n",
       "      <td>12844350</td>\n",
       "      <td>no-cc</td>\n",
       "      <td>The army of the men of death, in John Bunyan's...</td>\n",
       "      <td>2003-06-27</td>\n",
       "      <td>Petsko, Gregory A</td>\n",
       "      <td>Genome Biol</td>\n",
       "      <td>NaN</td>\n",
       "      <td>NaN</td>\n",
       "      <td>False</td>\n",
       "      <td>True</td>\n",
       "      <td>custom_license</td>\n",
       "      <td>https://www.ncbi.nlm.nih.gov/pmc/articles/PMC1...</td>\n",
       "    </tr>\n",
       "    <tr>\n",
       "      <th>3</th>\n",
       "      <td>fy4w7xz8</td>\n",
       "      <td>0104f6ceccf92ae8567a0102f89cbb976969a774</td>\n",
       "      <td>PMC</td>\n",
       "      <td>Association of HLA class I with severe acute r...</td>\n",
       "      <td>10.1186/1471-2350-4-9</td>\n",
       "      <td>PMC212558</td>\n",
       "      <td>12969506</td>\n",
       "      <td>no-cc</td>\n",
       "      <td>BACKGROUND: The human leukocyte antigen (HLA) ...</td>\n",
       "      <td>2003-09-12</td>\n",
       "      <td>Lin, Marie; Tseng, Hsiang-Kuang; Trejaut, Jean...</td>\n",
       "      <td>BMC Med Genet</td>\n",
       "      <td>NaN</td>\n",
       "      <td>NaN</td>\n",
       "      <td>True</td>\n",
       "      <td>True</td>\n",
       "      <td>custom_license</td>\n",
       "      <td>https://www.ncbi.nlm.nih.gov/pmc/articles/PMC2...</td>\n",
       "    </tr>\n",
       "    <tr>\n",
       "      <th>4</th>\n",
       "      <td>0qaoam29</td>\n",
       "      <td>5b68a553a7cbbea13472721cd1ad617d42b40c26</td>\n",
       "      <td>PMC</td>\n",
       "      <td>A double epidemic model for the SARS propagation</td>\n",
       "      <td>10.1186/1471-2334-3-19</td>\n",
       "      <td>PMC222908</td>\n",
       "      <td>12964944</td>\n",
       "      <td>no-cc</td>\n",
       "      <td>BACKGROUND: An epidemic of a Severe Acute Resp...</td>\n",
       "      <td>2003-09-10</td>\n",
       "      <td>Ng, Tuen Wai; Turinici, Gabriel; Danchin, Antoine</td>\n",
       "      <td>BMC Infect Dis</td>\n",
       "      <td>NaN</td>\n",
       "      <td>NaN</td>\n",
       "      <td>True</td>\n",
       "      <td>True</td>\n",
       "      <td>custom_license</td>\n",
       "      <td>https://www.ncbi.nlm.nih.gov/pmc/articles/PMC2...</td>\n",
       "    </tr>\n",
       "  </tbody>\n",
       "</table>\n",
       "</div>"
      ],
      "text/plain": [
       "   cord_uid                                       sha source_x  \\\n",
       "0  xqhn0vbp  1e1286db212100993d03cc22374b624f7caee956      PMC   \n",
       "1  gi6uaa83  8ae137c8da1607b3a8e4c946c07ca8bda67f88ac      PMC   \n",
       "2  le0ogx1s                                       NaN      PMC   \n",
       "3  fy4w7xz8  0104f6ceccf92ae8567a0102f89cbb976969a774      PMC   \n",
       "4  0qaoam29  5b68a553a7cbbea13472721cd1ad617d42b40c26      PMC   \n",
       "\n",
       "                                               title                      doi  \\\n",
       "0  Airborne rhinovirus detection and effect of ul...    10.1186/1471-2458-3-5   \n",
       "1    Discovering human history from stomach bacteria  10.1186/gb-2003-4-5-213   \n",
       "2     A new recruit for the army of the men of death  10.1186/gb-2003-4-7-113   \n",
       "3  Association of HLA class I with severe acute r...    10.1186/1471-2350-4-9   \n",
       "4   A double epidemic model for the SARS propagation   10.1186/1471-2334-3-19   \n",
       "\n",
       "       pmcid pubmed_id license  \\\n",
       "0  PMC140314  12525263   no-cc   \n",
       "1  PMC156578  12734001   no-cc   \n",
       "2  PMC193621  12844350   no-cc   \n",
       "3  PMC212558  12969506   no-cc   \n",
       "4  PMC222908  12964944   no-cc   \n",
       "\n",
       "                                            abstract publish_time  \\\n",
       "0  BACKGROUND: Rhinovirus, the most common cause ...   2003-01-13   \n",
       "1  Recent analyses of human pathogens have reveal...   2003-04-28   \n",
       "2  The army of the men of death, in John Bunyan's...   2003-06-27   \n",
       "3  BACKGROUND: The human leukocyte antigen (HLA) ...   2003-09-12   \n",
       "4  BACKGROUND: An epidemic of a Severe Acute Resp...   2003-09-10   \n",
       "\n",
       "                                             authors            journal  \\\n",
       "0  Myatt, Theodore A; Johnston, Sebastian L; Rudn...  BMC Public Health   \n",
       "1                                   Disotell, Todd R        Genome Biol   \n",
       "2                                  Petsko, Gregory A        Genome Biol   \n",
       "3  Lin, Marie; Tseng, Hsiang-Kuang; Trejaut, Jean...      BMC Med Genet   \n",
       "4  Ng, Tuen Wai; Turinici, Gabriel; Danchin, Antoine     BMC Infect Dis   \n",
       "\n",
       "  Microsoft Academic Paper ID WHO #Covidence  has_pdf_parse  \\\n",
       "0                         NaN            NaN           True   \n",
       "1                         NaN            NaN           True   \n",
       "2                         NaN            NaN          False   \n",
       "3                         NaN            NaN           True   \n",
       "4                         NaN            NaN           True   \n",
       "\n",
       "   has_pmc_xml_parse  full_text_file  \\\n",
       "0               True  custom_license   \n",
       "1               True  custom_license   \n",
       "2               True  custom_license   \n",
       "3               True  custom_license   \n",
       "4               True  custom_license   \n",
       "\n",
       "                                                 url  \n",
       "0  https://www.ncbi.nlm.nih.gov/pmc/articles/PMC1...  \n",
       "1  https://www.ncbi.nlm.nih.gov/pmc/articles/PMC1...  \n",
       "2  https://www.ncbi.nlm.nih.gov/pmc/articles/PMC1...  \n",
       "3  https://www.ncbi.nlm.nih.gov/pmc/articles/PMC2...  \n",
       "4  https://www.ncbi.nlm.nih.gov/pmc/articles/PMC2...  "
      ]
     },
     "execution_count": 5,
     "metadata": {},
     "output_type": "execute_result"
    }
   ],
   "source": [
    "meta.head()"
   ]
  },
  {
   "cell_type": "code",
   "execution_count": 6,
   "metadata": {},
   "outputs": [
    {
     "data": {
      "text/plain": [
       "cord_uid                           0\n",
       "sha                            13374\n",
       "source_x                           0\n",
       "title                            158\n",
       "doi                             3340\n",
       "pmcid                           8746\n",
       "pubmed_id                      14340\n",
       "license                            0\n",
       "abstract                        9230\n",
       "publish_time                       8\n",
       "authors                         2279\n",
       "journal                         5242\n",
       "Microsoft Academic Paper ID    51434\n",
       "WHO #Covidence                 50630\n",
       "has_pdf_parse                      0\n",
       "has_pmc_xml_parse                  0\n",
       "full_text_file                  8604\n",
       "url                              302\n",
       "dtype: int64"
      ]
     },
     "execution_count": 6,
     "metadata": {},
     "output_type": "execute_result"
    }
   ],
   "source": [
    "meta.isna().sum()"
   ]
  },
  {
   "cell_type": "code",
   "execution_count": 7,
   "metadata": {},
   "outputs": [
    {
     "data": {
      "text/plain": [
       "(52398, 18)"
      ]
     },
     "execution_count": 7,
     "metadata": {},
     "output_type": "execute_result"
    }
   ],
   "source": [
    "meta.shape"
   ]
  },
  {
   "cell_type": "code",
   "execution_count": 8,
   "metadata": {},
   "outputs": [
    {
     "data": {
      "text/plain": [
       "cord_uid                               object\n",
       "sha                                    object\n",
       "source_x                               object\n",
       "title                                  object\n",
       "doi                                    object\n",
       "pmcid                                  object\n",
       "pubmed_id                              object\n",
       "license                                object\n",
       "abstract                               object\n",
       "publish_time                   datetime64[ns]\n",
       "authors                                object\n",
       "journal                                object\n",
       "Microsoft Academic Paper ID            object\n",
       "WHO #Covidence                         object\n",
       "has_pdf_parse                            bool\n",
       "has_pmc_xml_parse                        bool\n",
       "full_text_file                         object\n",
       "url                                    object\n",
       "dtype: object"
      ]
     },
     "execution_count": 8,
     "metadata": {},
     "output_type": "execute_result"
    }
   ],
   "source": [
    "meta.dtypes"
   ]
  },
  {
   "cell_type": "code",
   "execution_count": 9,
   "metadata": {},
   "outputs": [
    {
     "data": {
      "text/plain": [
       "(43012, 18)"
      ]
     },
     "execution_count": 9,
     "metadata": {},
     "output_type": "execute_result"
    }
   ],
   "source": [
    "## Drop the rows which are missing variables of interest\n",
    "meta.dropna(subset=['publish_time', 'abstract','title'], inplace = True)\n",
    "\n",
    "meta.shape"
   ]
  },
  {
   "cell_type": "code",
   "execution_count": 10,
   "metadata": {},
   "outputs": [
    {
     "data": {
      "text/plain": [
       "'Airborne rhinovirus detection and effect of ultraviolet irradiation on detection by a semi-nested RT-PCR assay'"
      ]
     },
     "execution_count": 10,
     "metadata": {},
     "output_type": "execute_result"
    }
   ],
   "source": [
    "# What do the titles say?\n",
    "meta.iloc[0]['title']"
   ]
  },
  {
   "cell_type": "code",
   "execution_count": 11,
   "metadata": {},
   "outputs": [
    {
     "data": {
      "text/plain": [
       "'Discovering human history from stomach bacteria'"
      ]
     },
     "execution_count": 11,
     "metadata": {},
     "output_type": "execute_result"
    }
   ],
   "source": [
    "meta.iloc[1]['title']"
   ]
  },
  {
   "cell_type": "code",
   "execution_count": 12,
   "metadata": {},
   "outputs": [
    {
     "data": {
      "text/plain": [
       "'A new recruit for the army of the men of death'"
      ]
     },
     "execution_count": 12,
     "metadata": {},
     "output_type": "execute_result"
    }
   ],
   "source": [
    "meta.iloc[2]['title']"
   ]
  },
  {
   "cell_type": "code",
   "execution_count": 13,
   "metadata": {},
   "outputs": [
    {
     "data": {
      "text/plain": [
       "'BACKGROUND: Rhinovirus, the most common cause of upper respiratory tract infections, has been implicated in asthma exacerbations and possibly asthma deaths. Although the method of transmission of rhinoviruses is disputed, several studies have demonstrated that aerosol transmission is a likely method of transmission among adults. As a first step in studies of possible airborne rhinovirus transmission, we developed methods to detect aerosolized rhinovirus by extending existing technology for detecting infectious agents in nasal specimens. METHODS: We aerosolized rhinovirus in a small aerosol chamber. Experiments were conducted with decreasing concentrations of rhinovirus. To determine the effect of UV irradiation on detection of rhinoviral aerosols, we also conducted experiments in which we exposed aerosols to a UV dose of 684 mJ/m(2). Aerosols were collected on Teflon filters and rhinovirus recovered in Qiagen AVL buffer using the Qiagen QIAamp Viral RNA Kit (Qiagen Corp., Valencia, California) followed by semi-nested RT-PCR and detection by gel electrophoresis. RESULTS: We obtained positive results from filter samples that had collected at least 1.3 TCID(50 )of aerosolized rhinovirus. Ultraviolet irradiation of airborne virus at doses much greater than those used in upper-room UV germicidal irradiation applications did not inhibit subsequent detection with the RT-PCR assay. CONCLUSION: The air sampling and extraction methodology developed in this study should be applicable to the detection of rhinovirus and other airborne viruses in the indoor air of offices and schools. This method, however, cannot distinguish UV inactivated virus from infectious viral particles.'"
      ]
     },
     "execution_count": 13,
     "metadata": {},
     "output_type": "execute_result"
    }
   ],
   "source": [
    "# What do the abstracts say?\n",
    "meta.iloc[0]['abstract']"
   ]
  },
  {
   "cell_type": "code",
   "execution_count": 14,
   "metadata": {},
   "outputs": [
    {
     "name": "stdout",
     "output_type": "stream",
     "text": [
      "Oldest article: 1955-10-31 00:00:00\n",
      "Newest article: 2020-12-31 00:00:00\n"
     ]
    }
   ],
   "source": [
    "# What time period are we working with?\n",
    "print(\"Oldest article:\", min(meta['publish_time']))\n",
    "print(\"Newest article:\", max(meta['publish_time']))\n",
    "\n",
    "## Why is there an article from the future?\n",
    "meta['year'] = meta['publish_time'].dt.year"
   ]
  },
  {
   "cell_type": "code",
   "execution_count": 15,
   "metadata": {},
   "outputs": [],
   "source": [
    "## Are there more articles in recent months and years, as this pandemic grew nearer?"
   ]
  },
  {
   "cell_type": "code",
   "execution_count": 16,
   "metadata": {},
   "outputs": [
    {
     "data": {
      "image/png": "[encoded data removed]",
      "text/plain": [
       "<Figure size 432x288 with 1 Axes>"
      ]
     },
     "metadata": {
      "needs_background": "light"
     },
     "output_type": "display_data"
    }
   ],
   "source": [
    "count_by_year = meta[['year','cord_uid']].groupby(['year']).count()\n",
    "count_by_year = count_by_year.reset_index()\n",
    "count_by_year['year'] = count_by_year['year'].astype(int)\n",
    "count_by_year = count_by_year.rename(columns = {'cord_uid':'count'})\n",
    "\n",
    "count_by_year.head()\n",
    "\n",
    "x = count_by_year['year']\n",
    "y = count_by_year['count']\n",
    "\n",
    "plt.xlabel(\"Year of Publication\")\n",
    "plt.ylabel(\"Count of Publications\")\n",
    "\n",
    "plt.title(\"Coronavirus articles grow in years leading to COVID-19 Pandemic\")\n",
    "\n",
    "plt.bar(x, y)\n",
    "\n",
    "plt.show()"
   ]
  },
  {
   "cell_type": "code",
   "execution_count": 17,
   "metadata": {},
   "outputs": [
    {
     "data": {
      "text/html": [
       "<div>\n",
       "<style scoped>\n",
       "    .dataframe tbody tr th:only-of-type {\n",
       "        vertical-align: middle;\n",
       "    }\n",
       "\n",
       "    .dataframe tbody tr th {\n",
       "        vertical-align: top;\n",
       "    }\n",
       "\n",
       "    .dataframe thead th {\n",
       "        text-align: right;\n",
       "    }\n",
       "</style>\n",
       "<table border=\"1\" class=\"dataframe\">\n",
       "  <thead>\n",
       "    <tr style=\"text-align: right;\">\n",
       "      <th></th>\n",
       "      <th>journal</th>\n",
       "      <th>count</th>\n",
       "    </tr>\n",
       "  </thead>\n",
       "  <tbody>\n",
       "    <tr>\n",
       "      <th>3443</th>\n",
       "      <td>Journal of Virology</td>\n",
       "      <td>1722</td>\n",
       "    </tr>\n",
       "    <tr>\n",
       "      <th>4231</th>\n",
       "      <td>PLoS One</td>\n",
       "      <td>1567</td>\n",
       "    </tr>\n",
       "    <tr>\n",
       "      <th>5451</th>\n",
       "      <td>Virology</td>\n",
       "      <td>816</td>\n",
       "    </tr>\n",
       "    <tr>\n",
       "      <th>1709</th>\n",
       "      <td>Emerg Infect Dis</td>\n",
       "      <td>572</td>\n",
       "    </tr>\n",
       "    <tr>\n",
       "      <th>5466</th>\n",
       "      <td>Viruses</td>\n",
       "      <td>563</td>\n",
       "    </tr>\n",
       "    <tr>\n",
       "      <th>464</th>\n",
       "      <td>Arch Virol</td>\n",
       "      <td>495</td>\n",
       "    </tr>\n",
       "    <tr>\n",
       "      <th>4827</th>\n",
       "      <td>Sci Rep</td>\n",
       "      <td>492</td>\n",
       "    </tr>\n",
       "    <tr>\n",
       "      <th>5459</th>\n",
       "      <td>Virus Research</td>\n",
       "      <td>437</td>\n",
       "    </tr>\n",
       "    <tr>\n",
       "      <th>5422</th>\n",
       "      <td>Veterinary Microbiology</td>\n",
       "      <td>408</td>\n",
       "    </tr>\n",
       "    <tr>\n",
       "      <th>3442</th>\n",
       "      <td>Journal of Virological Methods</td>\n",
       "      <td>363</td>\n",
       "    </tr>\n",
       "    <tr>\n",
       "      <th>5381</th>\n",
       "      <td>Vaccine</td>\n",
       "      <td>360</td>\n",
       "    </tr>\n",
       "    <tr>\n",
       "      <th>5447</th>\n",
       "      <td>Virol J</td>\n",
       "      <td>358</td>\n",
       "    </tr>\n",
       "    <tr>\n",
       "      <th>3217</th>\n",
       "      <td>Journal of Clinical Microbiology</td>\n",
       "      <td>320</td>\n",
       "    </tr>\n",
       "    <tr>\n",
       "      <th>4506</th>\n",
       "      <td>Proceedings of the National Academy of Sciences</td>\n",
       "      <td>318</td>\n",
       "    </tr>\n",
       "    <tr>\n",
       "      <th>4232</th>\n",
       "      <td>PLoS Pathog</td>\n",
       "      <td>318</td>\n",
       "    </tr>\n",
       "  </tbody>\n",
       "</table>\n",
       "</div>"
      ],
      "text/plain": [
       "                                              journal  count\n",
       "3443                              Journal of Virology   1722\n",
       "4231                                         PLoS One   1567\n",
       "5451                                         Virology    816\n",
       "1709                                 Emerg Infect Dis    572\n",
       "5466                                          Viruses    563\n",
       "464                                        Arch Virol    495\n",
       "4827                                          Sci Rep    492\n",
       "5459                                   Virus Research    437\n",
       "5422                          Veterinary Microbiology    408\n",
       "3442                   Journal of Virological Methods    363\n",
       "5381                                          Vaccine    360\n",
       "5447                                          Virol J    358\n",
       "3217                 Journal of Clinical Microbiology    320\n",
       "4506  Proceedings of the National Academy of Sciences    318\n",
       "4232                                      PLoS Pathog    318"
      ]
     },
     "execution_count": 17,
     "metadata": {},
     "output_type": "execute_result"
    }
   ],
   "source": [
    "# Which journal is the most popular for publishing papers on COVID? \n",
    "\n",
    "count_by_journal = meta[['journal','cord_uid']].groupby('journal').count().reset_index()\n",
    "\n",
    "count_by_journal = count_by_journal.rename(columns = {'cord_uid':'count'})\n",
    "\n",
    "count_by_journal.sort_values(by = 'count', ascending = False).head(15)\n"
   ]
  },
  {
   "cell_type": "markdown",
   "metadata": {},
   "source": [
    "## Read in CORD19 Embeddings File "
   ]
  },
  {
   "cell_type": "code",
   "execution_count": 18,
   "metadata": {},
   "outputs": [],
   "source": [
    "#embed =  pd.read_csv(\"cord_19_embeddings_4_17/cord_19_embeddings_4_17.csv\", engine = 'python')"
   ]
  },
  {
   "cell_type": "code",
   "execution_count": 19,
   "metadata": {},
   "outputs": [],
   "source": [
    "#embed.head()"
   ]
  },
  {
   "cell_type": "code",
   "execution_count": 20,
   "metadata": {},
   "outputs": [],
   "source": [
    "#embed.shape"
   ]
  },
  {
   "cell_type": "code",
   "execution_count": 21,
   "metadata": {},
   "outputs": [],
   "source": [
    "#embed.isna().sum()"
   ]
  },
  {
   "cell_type": "code",
   "execution_count": 22,
   "metadata": {},
   "outputs": [],
   "source": [
    "## This is the same number of rows as the Metadata set"
   ]
  },
  {
   "cell_type": "code",
   "execution_count": 23,
   "metadata": {},
   "outputs": [
    {
     "data": {
      "text/html": [
       "<div>\n",
       "<style scoped>\n",
       "    .dataframe tbody tr th:only-of-type {\n",
       "        vertical-align: middle;\n",
       "    }\n",
       "\n",
       "    .dataframe tbody tr th {\n",
       "        vertical-align: top;\n",
       "    }\n",
       "\n",
       "    .dataframe thead th {\n",
       "        text-align: right;\n",
       "    }\n",
       "</style>\n",
       "<table border=\"1\" class=\"dataframe\">\n",
       "  <thead>\n",
       "    <tr style=\"text-align: right;\">\n",
       "      <th></th>\n",
       "      <th>cord_uid</th>\n",
       "      <th>sha</th>\n",
       "      <th>source_x</th>\n",
       "      <th>title</th>\n",
       "      <th>doi</th>\n",
       "      <th>pmcid</th>\n",
       "      <th>pubmed_id</th>\n",
       "      <th>license</th>\n",
       "      <th>abstract</th>\n",
       "      <th>publish_time</th>\n",
       "      <th>authors</th>\n",
       "      <th>journal</th>\n",
       "      <th>Microsoft Academic Paper ID</th>\n",
       "      <th>WHO #Covidence</th>\n",
       "      <th>has_pdf_parse</th>\n",
       "      <th>has_pmc_xml_parse</th>\n",
       "      <th>full_text_file</th>\n",
       "      <th>url</th>\n",
       "      <th>year</th>\n",
       "    </tr>\n",
       "  </thead>\n",
       "  <tbody>\n",
       "    <tr>\n",
       "      <th>0</th>\n",
       "      <td>xqhn0vbp</td>\n",
       "      <td>1e1286db212100993d03cc22374b624f7caee956</td>\n",
       "      <td>PMC</td>\n",
       "      <td>Airborne rhinovirus detection and effect of ul...</td>\n",
       "      <td>10.1186/1471-2458-3-5</td>\n",
       "      <td>PMC140314</td>\n",
       "      <td>12525263</td>\n",
       "      <td>no-cc</td>\n",
       "      <td>BACKGROUND: Rhinovirus, the most common cause ...</td>\n",
       "      <td>2003-01-13</td>\n",
       "      <td>Myatt, Theodore A; Johnston, Sebastian L; Rudn...</td>\n",
       "      <td>BMC Public Health</td>\n",
       "      <td>NaN</td>\n",
       "      <td>NaN</td>\n",
       "      <td>True</td>\n",
       "      <td>True</td>\n",
       "      <td>custom_license</td>\n",
       "      <td>https://www.ncbi.nlm.nih.gov/pmc/articles/PMC1...</td>\n",
       "      <td>2003</td>\n",
       "    </tr>\n",
       "    <tr>\n",
       "      <th>1</th>\n",
       "      <td>gi6uaa83</td>\n",
       "      <td>8ae137c8da1607b3a8e4c946c07ca8bda67f88ac</td>\n",
       "      <td>PMC</td>\n",
       "      <td>Discovering human history from stomach bacteria</td>\n",
       "      <td>10.1186/gb-2003-4-5-213</td>\n",
       "      <td>PMC156578</td>\n",
       "      <td>12734001</td>\n",
       "      <td>no-cc</td>\n",
       "      <td>Recent analyses of human pathogens have reveal...</td>\n",
       "      <td>2003-04-28</td>\n",
       "      <td>Disotell, Todd R</td>\n",
       "      <td>Genome Biol</td>\n",
       "      <td>NaN</td>\n",
       "      <td>NaN</td>\n",
       "      <td>True</td>\n",
       "      <td>True</td>\n",
       "      <td>custom_license</td>\n",
       "      <td>https://www.ncbi.nlm.nih.gov/pmc/articles/PMC1...</td>\n",
       "      <td>2003</td>\n",
       "    </tr>\n",
       "    <tr>\n",
       "      <th>2</th>\n",
       "      <td>le0ogx1s</td>\n",
       "      <td>NaN</td>\n",
       "      <td>PMC</td>\n",
       "      <td>A new recruit for the army of the men of death</td>\n",
       "      <td>10.1186/gb-2003-4-7-113</td>\n",
       "      <td>PMC193621</td>\n",
       "      <td>12844350</td>\n",
       "      <td>no-cc</td>\n",
       "      <td>The army of the men of death, in John Bunyan's...</td>\n",
       "      <td>2003-06-27</td>\n",
       "      <td>Petsko, Gregory A</td>\n",
       "      <td>Genome Biol</td>\n",
       "      <td>NaN</td>\n",
       "      <td>NaN</td>\n",
       "      <td>False</td>\n",
       "      <td>True</td>\n",
       "      <td>custom_license</td>\n",
       "      <td>https://www.ncbi.nlm.nih.gov/pmc/articles/PMC1...</td>\n",
       "      <td>2003</td>\n",
       "    </tr>\n",
       "    <tr>\n",
       "      <th>3</th>\n",
       "      <td>fy4w7xz8</td>\n",
       "      <td>0104f6ceccf92ae8567a0102f89cbb976969a774</td>\n",
       "      <td>PMC</td>\n",
       "      <td>Association of HLA class I with severe acute r...</td>\n",
       "      <td>10.1186/1471-2350-4-9</td>\n",
       "      <td>PMC212558</td>\n",
       "      <td>12969506</td>\n",
       "      <td>no-cc</td>\n",
       "      <td>BACKGROUND: The human leukocyte antigen (HLA) ...</td>\n",
       "      <td>2003-09-12</td>\n",
       "      <td>Lin, Marie; Tseng, Hsiang-Kuang; Trejaut, Jean...</td>\n",
       "      <td>BMC Med Genet</td>\n",
       "      <td>NaN</td>\n",
       "      <td>NaN</td>\n",
       "      <td>True</td>\n",
       "      <td>True</td>\n",
       "      <td>custom_license</td>\n",
       "      <td>https://www.ncbi.nlm.nih.gov/pmc/articles/PMC2...</td>\n",
       "      <td>2003</td>\n",
       "    </tr>\n",
       "    <tr>\n",
       "      <th>4</th>\n",
       "      <td>0qaoam29</td>\n",
       "      <td>5b68a553a7cbbea13472721cd1ad617d42b40c26</td>\n",
       "      <td>PMC</td>\n",
       "      <td>A double epidemic model for the SARS propagation</td>\n",
       "      <td>10.1186/1471-2334-3-19</td>\n",
       "      <td>PMC222908</td>\n",
       "      <td>12964944</td>\n",
       "      <td>no-cc</td>\n",
       "      <td>BACKGROUND: An epidemic of a Severe Acute Resp...</td>\n",
       "      <td>2003-09-10</td>\n",
       "      <td>Ng, Tuen Wai; Turinici, Gabriel; Danchin, Antoine</td>\n",
       "      <td>BMC Infect Dis</td>\n",
       "      <td>NaN</td>\n",
       "      <td>NaN</td>\n",
       "      <td>True</td>\n",
       "      <td>True</td>\n",
       "      <td>custom_license</td>\n",
       "      <td>https://www.ncbi.nlm.nih.gov/pmc/articles/PMC2...</td>\n",
       "      <td>2003</td>\n",
       "    </tr>\n",
       "  </tbody>\n",
       "</table>\n",
       "</div>"
      ],
      "text/plain": [
       "   cord_uid                                       sha source_x  \\\n",
       "0  xqhn0vbp  1e1286db212100993d03cc22374b624f7caee956      PMC   \n",
       "1  gi6uaa83  8ae137c8da1607b3a8e4c946c07ca8bda67f88ac      PMC   \n",
       "2  le0ogx1s                                       NaN      PMC   \n",
       "3  fy4w7xz8  0104f6ceccf92ae8567a0102f89cbb976969a774      PMC   \n",
       "4  0qaoam29  5b68a553a7cbbea13472721cd1ad617d42b40c26      PMC   \n",
       "\n",
       "                                               title                      doi  \\\n",
       "0  Airborne rhinovirus detection and effect of ul...    10.1186/1471-2458-3-5   \n",
       "1    Discovering human history from stomach bacteria  10.1186/gb-2003-4-5-213   \n",
       "2     A new recruit for the army of the men of death  10.1186/gb-2003-4-7-113   \n",
       "3  Association of HLA class I with severe acute r...    10.1186/1471-2350-4-9   \n",
       "4   A double epidemic model for the SARS propagation   10.1186/1471-2334-3-19   \n",
       "\n",
       "       pmcid pubmed_id license  \\\n",
       "0  PMC140314  12525263   no-cc   \n",
       "1  PMC156578  12734001   no-cc   \n",
       "2  PMC193621  12844350   no-cc   \n",
       "3  PMC212558  12969506   no-cc   \n",
       "4  PMC222908  12964944   no-cc   \n",
       "\n",
       "                                            abstract publish_time  \\\n",
       "0  BACKGROUND: Rhinovirus, the most common cause ...   2003-01-13   \n",
       "1  Recent analyses of human pathogens have reveal...   2003-04-28   \n",
       "2  The army of the men of death, in John Bunyan's...   2003-06-27   \n",
       "3  BACKGROUND: The human leukocyte antigen (HLA) ...   2003-09-12   \n",
       "4  BACKGROUND: An epidemic of a Severe Acute Resp...   2003-09-10   \n",
       "\n",
       "                                             authors            journal  \\\n",
       "0  Myatt, Theodore A; Johnston, Sebastian L; Rudn...  BMC Public Health   \n",
       "1                                   Disotell, Todd R        Genome Biol   \n",
       "2                                  Petsko, Gregory A        Genome Biol   \n",
       "3  Lin, Marie; Tseng, Hsiang-Kuang; Trejaut, Jean...      BMC Med Genet   \n",
       "4  Ng, Tuen Wai; Turinici, Gabriel; Danchin, Antoine     BMC Infect Dis   \n",
       "\n",
       "  Microsoft Academic Paper ID WHO #Covidence  has_pdf_parse  \\\n",
       "0                         NaN            NaN           True   \n",
       "1                         NaN            NaN           True   \n",
       "2                         NaN            NaN          False   \n",
       "3                         NaN            NaN           True   \n",
       "4                         NaN            NaN           True   \n",
       "\n",
       "   has_pmc_xml_parse  full_text_file  \\\n",
       "0               True  custom_license   \n",
       "1               True  custom_license   \n",
       "2               True  custom_license   \n",
       "3               True  custom_license   \n",
       "4               True  custom_license   \n",
       "\n",
       "                                                 url  year  \n",
       "0  https://www.ncbi.nlm.nih.gov/pmc/articles/PMC1...  2003  \n",
       "1  https://www.ncbi.nlm.nih.gov/pmc/articles/PMC1...  2003  \n",
       "2  https://www.ncbi.nlm.nih.gov/pmc/articles/PMC1...  2003  \n",
       "3  https://www.ncbi.nlm.nih.gov/pmc/articles/PMC2...  2003  \n",
       "4  https://www.ncbi.nlm.nih.gov/pmc/articles/PMC2...  2003  "
      ]
     },
     "execution_count": 23,
     "metadata": {},
     "output_type": "execute_result"
    }
   ],
   "source": [
    "meta.head()"
   ]
  },
  {
   "cell_type": "markdown",
   "metadata": {},
   "source": [
    "## Weekly Bar Chart of Publications"
   ]
  },
  {
   "cell_type": "code",
   "execution_count": 24,
   "metadata": {},
   "outputs": [],
   "source": [
    "def prior_sun(dt):\n",
    "    return dt - timedelta(days =((dt.isoweekday() + 0) % 7))\n",
    "\n",
    "meta['weekStart'] = meta['publish_time'].apply(prior_sun)"
   ]
  },
  {
   "cell_type": "code",
   "execution_count": 25,
   "metadata": {},
   "outputs": [],
   "source": [
    "#meta['weekStart'] = meta['publish_time'].apply(prior_sun)"
   ]
  },
  {
   "cell_type": "code",
   "execution_count": 26,
   "metadata": {},
   "outputs": [],
   "source": [
    "start_date = \"2019-5-1\"\n",
    "end_date = \"2020-4-30\"\n",
    "\n",
    "after_start_date = meta[\"weekStart\"] >= start_date\n",
    "before_end_date = meta[\"weekStart\"] <= end_date\n",
    "between_two_dates = after_start_date & before_end_date\n",
    "recent_meta = meta.loc[between_two_dates]"
   ]
  },
  {
   "cell_type": "code",
   "execution_count": 27,
   "metadata": {},
   "outputs": [
    {
     "name": "stderr",
     "output_type": "stream",
     "text": [
      "/Users/amandahutter/anaconda3/lib/python3.7/site-packages/pandas/plotting/_matplotlib/converter.py:103: FutureWarning: Using an implicitly registered datetime converter for a matplotlib plotting method. The converter was registered by pandas on import. Future versions of pandas will require you to explicitly register matplotlib converters.\n",
      "\n",
      "To register the converters:\n",
      "\t>>> from pandas.plotting import register_matplotlib_converters\n",
      "\t>>> register_matplotlib_converters()\n",
      "  warnings.warn(msg, FutureWarning)\n"
     ]
    },
    {
     "data": {
      "image/png": "[encoded data removed]",
      "text/plain": [
       "<Figure size 432x288 with 1 Axes>"
      ]
     },
     "metadata": {
      "needs_background": "light"
     },
     "output_type": "display_data"
    }
   ],
   "source": [
    "count_by_week = recent_meta[['weekStart','cord_uid']].groupby(['weekStart']).count()\n",
    "count_by_week = count_by_week.reset_index()\n",
    "count_by_week['weekStart'] = count_by_week['weekStart']\n",
    "count_by_week = count_by_week.rename(columns = {'cord_uid':'count'})\n",
    "\n",
    "count_by_week.head()\n",
    "\n",
    "x = count_by_week['weekStart']\n",
    "y = count_by_week['count']\n",
    "\n",
    "plt.xticks(rotation=45)\n",
    "plt.xlabel(\"Week of Publication\")\n",
    "plt.ylabel(\"Count of Publications\")\n",
    "plt.title(\"Coronavirus articles grow in years leading to COVID-19 Pandemic\")\n",
    "plt.bar(x, y)\n",
    "plt.show()"
   ]
  },
  {
   "cell_type": "code",
   "execution_count": null,
   "metadata": {},
   "outputs": [],
   "source": []
  },
  {
   "cell_type": "markdown",
   "metadata": {},
   "source": [
    "## Add NLP stuff to abstracts"
   ]
  },
  {
   "cell_type": "code",
   "execution_count": 28,
   "metadata": {},
   "outputs": [
    {
     "name": "stderr",
     "output_type": "stream",
     "text": [
      "[nltk_data] Downloading package stopwords to\n",
      "[nltk_data]     /Users/amandahutter/nltk_data...\n",
      "[nltk_data]   Package stopwords is already up-to-date!\n"
     ]
    },
    {
     "data": {
      "text/plain": [
       "True"
      ]
     },
     "execution_count": 28,
     "metadata": {},
     "output_type": "execute_result"
    }
   ],
   "source": [
    "import re \n",
    "\n",
    "# Import NLTK to assist with removing the non important words \n",
    "import nltk \n",
    "\n",
    "from nltk.corpus import stopwords \n",
    "from nltk.stem.porter import PorterStemmer\n",
    "\n",
    "nltk.download('stopwords')"
   ]
  },
  {
   "cell_type": "code",
   "execution_count": 29,
   "metadata": {},
   "outputs": [
    {
     "data": {
      "text/plain": [
       "'In the United States, outbreaks of avian influenza H5 and H7 virus infections in poultry have raised concern about the risk for infections in humans. We reviewed the data collected during 2014–2017 and found no human infections among 4,555 exposed responders who were wearing protection.'"
      ]
     },
     "execution_count": 29,
     "metadata": {},
     "output_type": "execute_result"
    }
   ],
   "source": [
    "#recent_meta['abstract']\n",
    "\n",
    "#recent_meta.iloc[0][8]\n",
    "\n",
    "recent_meta.iloc[0]['abstract']"
   ]
  },
  {
   "cell_type": "code",
   "execution_count": 30,
   "metadata": {},
   "outputs": [
    {
     "name": "stdout",
     "output_type": "stream",
     "text": [
      "In the United States  outbreaks of avian influenza H  and H  virus infections in poultry have raised concern about the risk for infections in humans  We reviewed the data collected during           and found no human infections among       exposed responders who were wearing protection \n",
      "in the united states  outbreaks of avian influenza h  and h  virus infections in poultry have raised concern about the risk for infections in humans  we reviewed the data collected during           and found no human infections among       exposed responders who were wearing protection \n",
      "['in', 'the', 'united', 'states', 'outbreaks', 'of', 'avian', 'influenza', 'h', 'and', 'h', 'virus', 'infections', 'in', 'poultry', 'have', 'raised', 'concern', 'about', 'the', 'risk', 'for', 'infections', 'in', 'humans', 'we', 'reviewed', 'the', 'data', 'collected', 'during', 'and', 'found', 'no', 'human', 'infections', 'among', 'exposed', 'responders', 'who', 'were', 'wearing', 'protection']\n",
      "['unit', 'state', 'outbreak', 'avian', 'influenza', 'h', 'h', 'viru', 'infect', 'poultri', 'rais', 'concern', 'risk', 'infect', 'human', 'review', 'data', 'collect', 'found', 'human', 'infect', 'among', 'expos', 'respond', 'wear', 'protect']\n",
      "unit state outbreak avian influenza h h viru infect poultri rais concern risk infect human review data collect found human infect among expos respond wear protect\n"
     ]
    }
   ],
   "source": [
    "# Remove the non important words \n",
    "abstract = re.sub(pattern = '[^a-zA-Z]', repl = ' ', string = recent_meta.iloc[0]['abstract']) \n",
    "print(abstract)\n",
    "\n",
    "# Lowercase  \n",
    "abstract = abstract.lower()\n",
    "print(abstract)\n",
    "\n",
    "# Split string\n",
    "abstract = abstract.split()\n",
    "print(abstract)\n",
    "\n",
    "# Make Porter stemmer to stem our words, to remove suffix & prefix\n",
    "ps = PorterStemmer()\n",
    "\n",
    "# Keep the words in the list that are not in the Stopwords list \n",
    "abstract = [ps.stem(word) for word in abstract if not word in set(stopwords.words('english'))]\n",
    "print(abstract)\n",
    "\n",
    "# Convert back to string \n",
    "abstract = ' '.join(abstract)\n",
    "print(abstract)"
   ]
  },
  {
   "cell_type": "markdown",
   "metadata": {},
   "source": [
    "### Create Corpus of Abstracts"
   ]
  },
  {
   "cell_type": "code",
   "execution_count": null,
   "metadata": {},
   "outputs": [],
   "source": [
    "# Loop through all reviews in your dataset and do above process \n",
    "\n",
    "# corpus refers to the cleaned reviews\n",
    "abstract_corpus= []\n",
    "\n",
    "for i in range (0, len(recent_meta)):\n",
    "    abstract = re.sub(pattern = '[^a-zA-Z]', repl = ' ', string = recent_meta.iloc[i]['abstract'])\n",
    "    abstract = abstract.lower()\n",
    "    abstract = abstract.split()\n",
    "    ps = PorterStemmer()\n",
    "    abstract = [ps.stem(word) for word in abstract if not word in set(stopwords.words('english'))]\n",
    "    abstract = ' '.join(abstract)\n",
    "    abstract_corpus.append(abstract)\n",
    "print(abstract_corpus[1:15])"
   ]
  },
  {
   "cell_type": "markdown",
   "metadata": {},
   "source": [
    "## (II) NLTK-VADER: Add libraries for Unsupervised Sentiment Analysis "
   ]
  },
  {
   "cell_type": "markdown",
   "metadata": {},
   "source": [
    "### https://www.nltk.org/api/nltk.sentiment.html\n",
    "### https://github.com/cjhutto/vaderSentiment\n",
    "\n",
    "If you use the VADER sentiment analysis tools, please cite:\n",
    "\n",
    "Hutto, C.J. & Gilbert, E.E. (2014). VADER: A Parsimonious Rule-based Model for Sentiment Analysis of Social Media Text. Eighth International Conference on Weblogs and Social Media (ICWSM-14). Ann Arbor, MI, June 2014."
   ]
  },
  {
   "cell_type": "code",
   "execution_count": null,
   "metadata": {},
   "outputs": [],
   "source": [
    "# https://medium.com/@Intellica.AI/vader-ibm-watson-or-textblob-which-is-better-for-unsupervised-sentiment-analysis-db4143a39445\n",
    "\n",
    "#import nltk\n",
    "nltk.download('vader_lexicon')"
   ]
  },
  {
   "cell_type": "code",
   "execution_count": null,
   "metadata": {},
   "outputs": [],
   "source": [
    "from nltk.sentiment.vader import SentimentIntensityAnalyzer\n",
    "\n",
    "sid = SentimentIntensityAnalyzer()\n",
    "\n",
    "def get_vader_score(sent):\n",
    "    # Polarity score returns dictionary\n",
    "    ss = sid.polarity_scores(sent)\n",
    "    for key in sorted(ss):\n",
    "        print('{0}: {1}, '.format(key, ss[key]), end='')\n",
    "        print()\n",
    "        \n",
    "    #for key, val in ss.items():\n",
    "    #    print(key)\n",
    "    #    print(val)"
   ]
  },
  {
   "cell_type": "markdown",
   "metadata": {},
   "source": [
    "### What is the Compound value? It uses the valence to measure overall sentiment. Typically, >0.05 is Positive, <-.05 is Negative, else it is Neutral\n",
    "\n",
    "### https://github.com/cjhutto/vaderSentiment#about-the-scoring"
   ]
  },
  {
   "cell_type": "code",
   "execution_count": null,
   "metadata": {},
   "outputs": [],
   "source": [
    "print(abstract_corpus[0])\n",
    "get_vader_score(abstract_corpus[0])"
   ]
  },
  {
   "cell_type": "code",
   "execution_count": null,
   "metadata": {},
   "outputs": [],
   "source": [
    "get_vader_score(abstract_corpus[1])"
   ]
  },
  {
   "cell_type": "code",
   "execution_count": null,
   "metadata": {},
   "outputs": [],
   "source": [
    "get_vader_score(abstract_corpus[-1])"
   ]
  },
  {
   "cell_type": "markdown",
   "metadata": {},
   "source": [
    "## (II.ii) TextBlob for Sentiment Analysis on Unstructured data"
   ]
  },
  {
   "cell_type": "code",
   "execution_count": null,
   "metadata": {},
   "outputs": [],
   "source": [
    "from textblob import TextBlob\n",
    "\n",
    "# Get the polarity score using below function\n",
    "def get_textBlob_score(sent):\n",
    "    # This polarity score is between -1 to 1\n",
    "    polarity = TextBlob(sent).sentiment.polarity\n",
    "    return polarity"
   ]
  },
  {
   "cell_type": "code",
   "execution_count": null,
   "metadata": {},
   "outputs": [],
   "source": [
    "print(abstract_corpus[0])\n",
    "get_textBlob_score(abstract_corpus[0])"
   ]
  },
  {
   "cell_type": "code",
   "execution_count": null,
   "metadata": {},
   "outputs": [],
   "source": [
    "print(abstract_corpus[1])\n",
    "get_textBlob_score(abstract_corpus[1])"
   ]
  },
  {
   "cell_type": "code",
   "execution_count": null,
   "metadata": {},
   "outputs": [],
   "source": [
    "print(abstract_corpus[-1])\n",
    "get_textBlob_score(abstract_corpus[-1])"
   ]
  },
  {
   "cell_type": "code",
   "execution_count": null,
   "metadata": {},
   "outputs": [],
   "source": [
    "print(abstract_corpus[-10])\n",
    "get_textBlob_score(abstract_corpus[-10])"
   ]
  },
  {
   "cell_type": "markdown",
   "metadata": {},
   "source": [
    "Consider whether Textblob or NLTK Vader should be used to understand sentiment of publication headlines. NLTK Vader provides more granularity "
   ]
  },
  {
   "cell_type": "markdown",
   "metadata": {},
   "source": [
    "## (III) NLTK Vader POC"
   ]
  },
  {
   "cell_type": "markdown",
   "metadata": {},
   "source": [
    "### Return to Vader  - Toy Example with Phrases"
   ]
  },
  {
   "cell_type": "code",
   "execution_count": null,
   "metadata": {},
   "outputs": [],
   "source": [
    "sid = SentimentIntensityAnalyzer()\n",
    "\n",
    "def get_vader_score(sent):\n",
    "    # Polarity score returns dictionary\n",
    "    ss = sid.polarity_scores(sent)\n",
    "    dict_list.append(ss)\n",
    "    "
   ]
  },
  {
   "cell_type": "code",
   "execution_count": null,
   "metadata": {},
   "outputs": [],
   "source": [
    "list_of_phrases = [\"I have the measles and the mumps\", \"We are the champions\", \"I do not like green eggs\"]\n",
    "\n",
    "dict_list = []\n",
    "\n",
    "for i in range(0, len(list_of_phrases)):\n",
    "    print(list_of_phrases[i])\n",
    "    get_vader_score(list_of_phrases[i])\n",
    "\n",
    "neg_list = []\n",
    "neu_list = []\n",
    "pos_list = []\n",
    "compound_list = []\n",
    "\n",
    "for i in range(0, len(dict_list)):\n",
    "    neg_list.append(dict_list[i][\"neg\"])\n",
    "    neu_list.append(dict_list[i][\"neu\"])\n",
    "    pos_list.append(dict_list[i][\"pos\"])\n",
    "    compound_list.append(dict_list[i][\"compound\"])\n",
    "\n",
    "print(neg_list)\n",
    "print(neu_list)\n",
    "print(pos_list)\n",
    "print(compound_list)"
   ]
  },
  {
   "cell_type": "code",
   "execution_count": null,
   "metadata": {},
   "outputs": [],
   "source": [
    "vader_df = pd.DataFrame( list(zip(list_of_phrases, neg_list, neu_list, pos_list, compound_list)), columns = [\"Phrases\",'Negative','Neutral','Positive','Compound'])"
   ]
  },
  {
   "cell_type": "code",
   "execution_count": null,
   "metadata": {},
   "outputs": [],
   "source": [
    "vader_df"
   ]
  },
  {
   "cell_type": "code",
   "execution_count": null,
   "metadata": {},
   "outputs": [],
   "source": [
    "dict_list"
   ]
  },
  {
   "cell_type": "markdown",
   "metadata": {},
   "source": [
    "### (III.i) Vader - Example with Abstract Corpus"
   ]
  },
  {
   "cell_type": "code",
   "execution_count": null,
   "metadata": {},
   "outputs": [],
   "source": [
    "#abstract_corpus = corpus"
   ]
  },
  {
   "cell_type": "code",
   "execution_count": null,
   "metadata": {},
   "outputs": [],
   "source": [
    "dict_list.clear\n",
    "\n",
    "dict_list = []\n",
    "\n",
    "for i in range(0, len(abstract_corpus)):\n",
    "    get_vader_score(abstract_corpus[i])"
   ]
  },
  {
   "cell_type": "code",
   "execution_count": null,
   "metadata": {},
   "outputs": [],
   "source": [
    "neg_list = []\n",
    "neu_list = []\n",
    "pos_list = []\n",
    "compound_list = []\n",
    "for i in range(0, len(dict_list)):\n",
    "    neg_list.append(dict_list[i][\"neg\"])\n",
    "    neu_list.append(dict_list[i][\"neu\"])\n",
    "    pos_list.append(dict_list[i][\"pos\"])\n",
    "    compound_list.append(dict_list[i][\"compound\"])"
   ]
  },
  {
   "cell_type": "code",
   "execution_count": null,
   "metadata": {},
   "outputs": [],
   "source": [
    "vader_df = pd.DataFrame( list(zip(abstract_corpus, neg_list, neu_list, pos_list, compound_list)), columns = [\"Abstracts\",'Negative','Neutral','Positive','Compound'])"
   ]
  },
  {
   "cell_type": "code",
   "execution_count": null,
   "metadata": {},
   "outputs": [],
   "source": [
    "vader_df.head()"
   ]
  },
  {
   "cell_type": "code",
   "execution_count": null,
   "metadata": {},
   "outputs": [],
   "source": [
    "vader_df.describe()"
   ]
  },
  {
   "cell_type": "code",
   "execution_count": null,
   "metadata": {},
   "outputs": [],
   "source": [
    "vader_df.index"
   ]
  },
  {
   "cell_type": "code",
   "execution_count": null,
   "metadata": {},
   "outputs": [],
   "source": [
    "#recent_meta.head()"
   ]
  },
  {
   "cell_type": "code",
   "execution_count": null,
   "metadata": {},
   "outputs": [],
   "source": [
    "print(recent_meta.index)\n",
    "\n",
    "recent_meta = recent_meta.reset_index()\n",
    "\n",
    "print(recent_meta.index)"
   ]
  },
  {
   "cell_type": "code",
   "execution_count": null,
   "metadata": {},
   "outputs": [],
   "source": [
    "recent_vader = pd.concat([recent_meta, vader_df], axis = 1)"
   ]
  },
  {
   "cell_type": "code",
   "execution_count": null,
   "metadata": {},
   "outputs": [],
   "source": [
    "print(recent_vader.shape)\n",
    "recent_vader.head()"
   ]
  },
  {
   "cell_type": "markdown",
   "metadata": {},
   "source": [
    "### Compound Sentiment weekly has a slightly decreasing trend entering 2020"
   ]
  },
  {
   "cell_type": "code",
   "execution_count": null,
   "metadata": {},
   "outputs": [],
   "source": [
    "compound_by_week = recent_vader[['weekStart','Compound']].groupby('weekStart').median()\n",
    "compound_by_week = compound_by_week.reset_index()\n",
    "\n",
    "x = compound_by_week['weekStart']\n",
    "y = compound_by_week['Compound']\n",
    "\n",
    "plt.ylabel(\"Average Compound Score\")\n",
    "plt.xlabel(\"Week of publication\")\n",
    "plt.title(\"Average Compound Score, 2019 - 2020, COVID Abstracts\")\n",
    "plt.plot(x, y)\n",
    "plt.show()"
   ]
  },
  {
   "cell_type": "markdown",
   "metadata": {},
   "source": [
    "### Abstracts with Negative sentiment are Increasing in 2020"
   ]
  },
  {
   "cell_type": "code",
   "execution_count": null,
   "metadata": {},
   "outputs": [],
   "source": [
    "negative_by_week = recent_vader[['weekStart','Negative']].groupby('weekStart').median()\n",
    "negative_by_week = negative_by_week.reset_index()\n",
    "\n",
    "x = negative_by_week['weekStart']\n",
    "y = negative_by_week['Negative']\n",
    "\n",
    "plt.ylabel(\"Average Negative Score\")\n",
    "plt.xlabel(\"Week of publication\")\n",
    "plt.title(\"Average Negative Score, 2019 - 2020, COVID Abstracts\")\n",
    "plt.plot(x, y)\n",
    "plt.show()"
   ]
  },
  {
   "cell_type": "markdown",
   "metadata": {},
   "source": [
    "### Positive Sentiment is increasing with Abstracts Published in 2020 "
   ]
  },
  {
   "cell_type": "code",
   "execution_count": null,
   "metadata": {},
   "outputs": [],
   "source": [
    "positive_by_week = recent_vader[['weekStart','Positive']].groupby('weekStart').median()\n",
    "positive_by_week = positive_by_week.reset_index()\n",
    "\n",
    "x = positive_by_week['weekStart']\n",
    "y = positive_by_week['Positive']\n",
    "\n",
    "plt.ylabel(\"Average Positive Score\")\n",
    "plt.xlabel(\"Week of publication\")\n",
    "plt.title(\"Average Positive Score, 2019 - 2020, COVID Abstracts\")\n",
    "plt.plot(x, y)\n",
    "plt.show()"
   ]
  },
  {
   "cell_type": "markdown",
   "metadata": {},
   "source": [
    "### Neutral Sentiment Abstracts have decreased through 2020"
   ]
  },
  {
   "cell_type": "code",
   "execution_count": null,
   "metadata": {},
   "outputs": [],
   "source": [
    "neutral_by_week = recent_vader[['weekStart','Neutral']].groupby('weekStart').median()\n",
    "neutral_by_week = neutral_by_week.reset_index()\n",
    "\n",
    "x = neutral_by_week['weekStart']\n",
    "y = neutral_by_week['Neutral']\n",
    "\n",
    "plt.ylabel(\"Average Positive Score\")\n",
    "plt.xlabel(\"Week of publication\")\n",
    "plt.title(\"Average Neutral Score, 2019 - 2020, COVID Abstracts\")\n",
    "plt.plot(x, y)\n",
    "plt.show()"
   ]
  },
  {
   "cell_type": "markdown",
   "metadata": {},
   "source": [
    "### Analyze the Positive/Negative scores using Vader on Abstracts with given thresholds for Compound Score"
   ]
  },
  {
   "cell_type": "code",
   "execution_count": null,
   "metadata": {},
   "outputs": [],
   "source": [
    "recent_vader['Sentiment'] = 'Neutral' # Default\n",
    "recent_vader.loc[recent_vader['Compound'] <= -.05, 'Sentiment'] = 'Negative' \n",
    "recent_vader.loc[recent_vader['Compound'] >= 0.05, 'Sentiment'] = 'Positive'\n",
    "\n",
    "recent_vader['POS'] = 0\n",
    "recent_vader.loc[recent_vader['Sentiment'] == \"Positive\", \"POS\"] = 1\n",
    "\n",
    "recent_vader['NEG'] = 0\n",
    "recent_vader.loc[recent_vader['Sentiment'] == \"Negative\", \"NEG\"] = 1\n",
    "\n",
    "recent_vader['NEU'] = 0\n",
    "recent_vader.loc[recent_vader['Sentiment'] == \"Neutral\", \"NEU\"] = 1\n",
    "\n",
    "recent_vader.head()"
   ]
  },
  {
   "cell_type": "code",
   "execution_count": null,
   "metadata": {},
   "outputs": [],
   "source": []
  },
  {
   "cell_type": "markdown",
   "metadata": {},
   "source": [
    "## Show Volume of Positive, Negative, and Neutral Abstracts over time "
   ]
  },
  {
   "cell_type": "code",
   "execution_count": null,
   "metadata": {},
   "outputs": [],
   "source": [
    "# Overall, abstracts are Positive or Negative, fewer Neutral using compound score\n",
    "recent_vader[['weekStart', 'Sentiment']].groupby(['Sentiment']).count()"
   ]
  },
  {
   "cell_type": "code",
   "execution_count": null,
   "metadata": {},
   "outputs": [],
   "source": [
    "## TODO: create groupby and plot here\n",
    "sentiment_by_week = recent_vader[['weekStart', 'Sentiment','cord_uid']].groupby(['weekStart','Sentiment']).count()\n",
    "sentiment_by_week = sentiment_by_week.reset_index()\n",
    "sentiment_by_week.rename(columns = {'cord_uid': 'Count'}, inplace = True)\n",
    "\n",
    "sentiment_by_week.head(9)"
   ]
  },
  {
   "cell_type": "markdown",
   "metadata": {},
   "source": [
    "### Weekly Sentiments of Abstracts with Vader Score "
   ]
  },
  {
   "cell_type": "code",
   "execution_count": null,
   "metadata": {},
   "outputs": [],
   "source": [
    "weekly_sentiment_abstracts = recent_vader[['weekStart', 'POS','NEU','NEG']].groupby('weekStart').sum().reset_index()\n",
    "\n",
    "plt.plot('weekStart', 'POS', data = weekly_sentiment_abstracts, color = 'skyblue', label = \"Positive\")\n",
    "plt.plot('weekStart', 'NEG', data = weekly_sentiment_abstracts, color = 'darkred', label = \"Negative\")\n",
    "plt.plot('weekStart', 'NEU', data = weekly_sentiment_abstracts, color = 'springgreen', label = \"Neutral\")\n",
    "\n",
    "plt.xlabel(\"Week of Publication\")\n",
    "plt.ylabel(\"Count of publications\")\n",
    "plt.title(\"Sentiment of Abstracts written about COVID-19 using NLTK Vader Score\")\n",
    "plt.legend()\n",
    "\n",
    "plt.show()"
   ]
  },
  {
   "cell_type": "markdown",
   "metadata": {},
   "source": [
    "## (III.ii) Vader with Title Corpus"
   ]
  },
  {
   "cell_type": "code",
   "execution_count": null,
   "metadata": {},
   "outputs": [],
   "source": [
    "# Loop through all reviews in your dataset and do above process \n",
    "\n",
    "# corpus refers to the cleaned reviews\n",
    "title_corpus= []\n",
    "\n",
    "for i in range (0, len(recent_meta)):\n",
    "    abstract = re.sub(pattern = '[^a-zA-Z]', repl = ' ', string = recent_meta.iloc[i]['title'])\n",
    "    abstract = abstract.lower()\n",
    "    abstract = abstract.split()\n",
    "    ps = PorterStemmer()\n",
    "    abstract = [ps.stem(word) for word in abstract if not word in set(stopwords.words('english'))]\n",
    "    abstract = ' '.join(abstract)\n",
    "    title_corpus.append(abstract)\n",
    "print(title_corpus[1:15])"
   ]
  },
  {
   "cell_type": "code",
   "execution_count": null,
   "metadata": {},
   "outputs": [],
   "source": [
    "dict_list.clear\n",
    "\n",
    "dict_list = []\n",
    "\n",
    "for i in range(0, len(title_corpus)):\n",
    "    get_vader_score(title_corpus[i])"
   ]
  },
  {
   "cell_type": "code",
   "execution_count": null,
   "metadata": {},
   "outputs": [],
   "source": [
    "neg_list = []\n",
    "neu_list = []\n",
    "pos_list = []\n",
    "compound_list = []\n",
    "for i in range(0, len(dict_list)):\n",
    "    neg_list.append(dict_list[i][\"neg\"])\n",
    "    neu_list.append(dict_list[i][\"neu\"])\n",
    "    pos_list.append(dict_list[i][\"pos\"])\n",
    "    compound_list.append(dict_list[i][\"compound\"])"
   ]
  },
  {
   "cell_type": "code",
   "execution_count": null,
   "metadata": {},
   "outputs": [],
   "source": [
    "title_vader = pd.DataFrame(list(zip(title_corpus, neg_list, neu_list, pos_list, compound_list)),\n",
    "                        columns = [\"Titles\",'Negative','Neutral','Positive','Compound'])"
   ]
  },
  {
   "cell_type": "code",
   "execution_count": null,
   "metadata": {},
   "outputs": [],
   "source": [
    "title_vader.head()"
   ]
  },
  {
   "cell_type": "code",
   "execution_count": null,
   "metadata": {},
   "outputs": [],
   "source": [
    "title_vader.describe()"
   ]
  },
  {
   "cell_type": "markdown",
   "metadata": {},
   "source": [
    "### Merge datasets for Vader + Title"
   ]
  },
  {
   "cell_type": "code",
   "execution_count": null,
   "metadata": {},
   "outputs": [],
   "source": [
    "recent_title = pd.concat([recent_meta, title_vader], axis = 1)"
   ]
  },
  {
   "cell_type": "code",
   "execution_count": null,
   "metadata": {},
   "outputs": [],
   "source": [
    "recent_title.head()"
   ]
  },
  {
   "cell_type": "markdown",
   "metadata": {},
   "source": [
    "### Compound Titles"
   ]
  },
  {
   "cell_type": "code",
   "execution_count": null,
   "metadata": {},
   "outputs": [],
   "source": [
    "compound_by_week = recent_title[['weekStart','Compound']].groupby('weekStart').median()\n",
    "compound_by_week = compound_by_week.reset_index()\n",
    "\n",
    "x = compound_by_week['weekStart']\n",
    "y = compound_by_week['Compound']\n",
    "\n",
    "plt.ylabel(\"Average Compound Score\")\n",
    "plt.xlabel(\"Week of publication\")\n",
    "plt.title(\"Average Compound Score, 2019 - 2020, COVID Abstracts\")\n",
    "plt.plot(x, y)\n",
    "plt.show()"
   ]
  },
  {
   "cell_type": "markdown",
   "metadata": {},
   "source": [
    "### Negative Titles"
   ]
  },
  {
   "cell_type": "code",
   "execution_count": null,
   "metadata": {},
   "outputs": [],
   "source": [
    "negative_by_week = recent_title[['weekStart','Negative']].groupby('weekStart').median()\n",
    "negative_by_week = negative_by_week.reset_index()\n",
    "\n",
    "x = negative_by_week['weekStart']\n",
    "y = negative_by_week['Negative']\n",
    "\n",
    "plt.ylabel(\"Average Negative Score\")\n",
    "plt.xlabel(\"Week of publication\")\n",
    "plt.title(\"Average Negative Score, 2019 - 2020, COVID Abstracts\")\n",
    "plt.plot(x, y)\n",
    "plt.show()"
   ]
  },
  {
   "cell_type": "markdown",
   "metadata": {},
   "source": [
    "### Positive Titles"
   ]
  },
  {
   "cell_type": "code",
   "execution_count": null,
   "metadata": {},
   "outputs": [],
   "source": [
    "positive_by_week = recent_title[['weekStart','Positive']].groupby('weekStart').median()\n",
    "positive_by_week = positive_by_week.reset_index()\n",
    "\n",
    "x = positive_by_week['weekStart']\n",
    "y = positive_by_week['Positive']\n",
    "\n",
    "plt.ylabel(\"Average Positive Score\")\n",
    "plt.xlabel(\"Week of publication\")\n",
    "plt.title(\"Average Positive Score, 2019 - 2020, COVID Abstracts\")\n",
    "plt.plot(x, y)\n",
    "plt.show()"
   ]
  },
  {
   "cell_type": "markdown",
   "metadata": {},
   "source": [
    "### Neutral Titles still fairly common, but with some non-neutral spikes in 2020"
   ]
  },
  {
   "cell_type": "code",
   "execution_count": null,
   "metadata": {},
   "outputs": [],
   "source": [
    "neutral_by_week = recent_title[['weekStart','Neutral']].groupby('weekStart').median()\n",
    "neutral_by_week = neutral_by_week.reset_index()\n",
    "\n",
    "x = neutral_by_week['weekStart']\n",
    "y = neutral_by_week['Neutral']\n",
    "\n",
    "plt.ylabel(\"Average Positive Score\")\n",
    "plt.xlabel(\"Week of publication\")\n",
    "plt.title(\"Average Neutral Score, 2019 - 2020, COVID Abstracts\")\n",
    "plt.plot(x, y)\n",
    "plt.show()"
   ]
  },
  {
   "cell_type": "markdown",
   "metadata": {},
   "source": [
    "### Use Vader Compound Score to determine if Title is mostly Positive, Negative, or Neutral "
   ]
  },
  {
   "cell_type": "code",
   "execution_count": null,
   "metadata": {},
   "outputs": [],
   "source": [
    "recent_title['Sentiment'] = 'Neutral' # Default\n",
    "recent_title.loc[recent_title['Compound'] <= -.05, 'Sentiment'] = 'Negative' \n",
    "recent_title.loc[recent_title['Compound'] >= 0.05, 'Sentiment'] = 'Positive'\n",
    "\n",
    "recent_title['POS'] = 0\n",
    "recent_title.loc[recent_title['Sentiment'] == \"Positive\", \"POS\"] = 1\n",
    "\n",
    "recent_title['NEG'] = 0\n",
    "recent_title.loc[recent_title['Sentiment'] == \"Negative\", \"NEG\"] = 1\n",
    "\n",
    "recent_title['NEU'] = 0\n",
    "recent_title.loc[recent_title['Sentiment'] == \"Neutral\", \"NEU\"] = 1\n",
    "\n",
    "recent_title.head()"
   ]
  },
  {
   "cell_type": "markdown",
   "metadata": {},
   "source": [
    "### Show volume of Titles that are Positive, Neutral, or Negative "
   ]
  },
  {
   "cell_type": "code",
   "execution_count": null,
   "metadata": {},
   "outputs": [],
   "source": [
    "recent_title[['weekStart', 'Sentiment']].groupby(['Sentiment']).count().reset_index()"
   ]
  },
  {
   "cell_type": "markdown",
   "metadata": {},
   "source": [
    "Titles are far more likely to be classified as Neutral than their respective abstracts "
   ]
  },
  {
   "cell_type": "markdown",
   "metadata": {},
   "source": [
    "### Show weekly Title sentiment using NLTK Vader"
   ]
  },
  {
   "cell_type": "code",
   "execution_count": null,
   "metadata": {},
   "outputs": [],
   "source": [
    "weekly_sentiment_titles = recent_title[['weekStart', 'POS','NEU','NEG']].groupby('weekStart').sum().reset_index()\n",
    "\n",
    "plt.plot('weekStart', 'POS', data = weekly_sentiment_titles, color = 'skyblue', label = \"Positive\")\n",
    "plt.plot('weekStart', 'NEG', data = weekly_sentiment_titles, color = 'darkred', label = \"Negative\")\n",
    "plt.plot('weekStart', 'NEU', data = weekly_sentiment_titles, color = 'springgreen', label = 'Neutral')\n",
    "\n",
    "plt.xlabel(\"Week of Publication\")\n",
    "plt.ylabel(\"Count of publications\")\n",
    "plt.legend()\n",
    "plt.title(\"Sentiment of Titles written about COVID-19 using NLTK VADER Score\")\n",
    "plt.show()"
   ]
  },
  {
   "cell_type": "markdown",
   "metadata": {},
   "source": [
    "### Compare the sentiment of Titles and Abstracts, by week "
   ]
  },
  {
   "cell_type": "code",
   "execution_count": null,
   "metadata": {},
   "outputs": [],
   "source": [
    "# Merge together these dataframes with weekly counts of sentiment \n",
    "sentiments_abs_tits_vader = pd.merge(weekly_sentiment_abstracts, weekly_sentiment_titles, how = 'left', on = 'weekStart')\n",
    "\n",
    "sentiments_abs_tits_vader.rename(columns = \n",
    "                           {'POS_x':'POS_abstracts','POS_y':'POS_titles',\n",
    "                           'NEU_x':'NEU_abstracts', 'NEU_y':'NEU_titles',\n",
    "                           'NEG_x': 'NEG_abstracts', 'NEG_y': 'NEG_titles'},\n",
    "                           inplace=True)\n",
    "sentiments_abs_tits_vader.head()"
   ]
  },
  {
   "cell_type": "code",
   "execution_count": null,
   "metadata": {},
   "outputs": [],
   "source": [
    "plt.plot('weekStart', 'POS_abstracts', data = sentiments_abs_tits_vader, color = 'skyblue', label = \"Abstracts (+)\")\n",
    "plt.plot('weekStart', 'POS_titles', data = sentiments_abs_tits_vader, color = 'skyblue', linestyle = 'dashed', label = 'Titles (+)')\n",
    "plt.plot('weekStart', 'NEG_abstracts', data = sentiments_abs_tits_vader, color = 'darkred', label = \"Abstracts (-)\")\n",
    "plt.plot('weekStart', 'NEG_titles', data = sentiments_abs_tits_vader, color = 'darkred', linestyle = 'dashed', label = \"Titles (-)\")\n",
    "plt.plot('weekStart', 'NEU_abstracts', data = sentiments_abs_tits_vader, color = 'springgreen', label = \"Abstracts (0)\")\n",
    "plt.plot('weekStart', 'NEU_titles', data = sentiments_abs_tits_vader, color = 'springgreen', linestyle = 'dashed', label = \"Titles (0)\")\n",
    "\n",
    "plt.xlabel(\"Week of Publication\")\n",
    "plt.ylabel(\"Count of publications\")\n",
    "plt.legend()\n",
    "plt.title(\"Sentiment Comparison between Titles and Abstracts about COVID-19 using NLTK Vader Score\")\n",
    "plt.show()"
   ]
  },
  {
   "cell_type": "code",
   "execution_count": null,
   "metadata": {},
   "outputs": [],
   "source": [
    "plt.plot('weekStart', 'POS_abstracts', data = sentiments_abs_tits_vader, color = 'skyblue', label = \"Abstracts (+)\")\n",
    "plt.plot('weekStart', 'POS_titles', data = sentiments_abs_tits_vader, color = 'skyblue', linestyle = 'dashed', label = 'Titles (+)')\n",
    "\n",
    "plt.xlabel(\"Week of Publication\")\n",
    "plt.ylabel(\"Count of publications\")\n",
    "plt.legend()\n",
    "plt.title(\"Sentiment Comparison between Titles and Abstracts about COVID-19 using NLTK Vader Score\")\n",
    "plt.show()"
   ]
  },
  {
   "cell_type": "code",
   "execution_count": null,
   "metadata": {},
   "outputs": [],
   "source": [
    "plt.plot('weekStart', 'NEG_abstracts', data = sentiments_abs_tits_vader, color = 'darkred', label = \"Abstracts (-)\")\n",
    "plt.plot('weekStart', 'NEG_titles', data = sentiments_abs_tits_vader, color = 'darkred', linestyle = 'dashed', label = \"Titles (-)\")\n",
    "\n",
    "plt.xlabel(\"Week of Publication\")\n",
    "plt.ylabel(\"Count of publications\")\n",
    "plt.legend()\n",
    "plt.title(\"Sentiment Comparison between Titles and Abstracts about COVID-19 using NLTK Vader Score\")\n",
    "plt.show()"
   ]
  },
  {
   "cell_type": "code",
   "execution_count": null,
   "metadata": {},
   "outputs": [],
   "source": [
    "plt.plot('weekStart', 'NEU_abstracts', data = sentiments_abs_tits_vader, color = 'springgreen', label = \"Abstracts (0)\")\n",
    "plt.plot('weekStart', 'NEU_titles', data = sentiments_abs_tits_vader, color = 'springgreen', linestyle = 'dashed', label = \"Titles (0)\")\n",
    "\n",
    "plt.xlabel(\"Week of Publication\")\n",
    "plt.ylabel(\"Count of publications\")\n",
    "plt.legend()\n",
    "plt.title(\"Sentiment Comparison between Titles and Abstracts about COVID-19 using NLTK Vader Score\")\n",
    "plt.show()"
   ]
  },
  {
   "cell_type": "markdown",
   "metadata": {},
   "source": [
    "## (IV) Using Textblob"
   ]
  },
  {
   "cell_type": "markdown",
   "metadata": {},
   "source": [
    "### (IV) Textblob on Abstracts Corpus"
   ]
  },
  {
   "cell_type": "code",
   "execution_count": null,
   "metadata": {},
   "outputs": [],
   "source": [
    "abstract_corpus[:3]"
   ]
  },
  {
   "cell_type": "code",
   "execution_count": null,
   "metadata": {},
   "outputs": [],
   "source": [
    "def get_textBlob_score(sent):\n",
    "    # This polarity score is between -1 to 1\n",
    "    polarity = TextBlob(sent).sentiment.polarity\n",
    "    subjectivity = TextBlob(sent).sentiment.subjectivity\n",
    "    return polarity, subjectivity"
   ]
  },
  {
   "cell_type": "code",
   "execution_count": null,
   "metadata": {},
   "outputs": [],
   "source": [
    "get_textBlob_score(abstract_corpus[10])"
   ]
  },
  {
   "cell_type": "code",
   "execution_count": null,
   "metadata": {},
   "outputs": [],
   "source": []
  },
  {
   "cell_type": "code",
   "execution_count": null,
   "metadata": {},
   "outputs": [],
   "source": [
    "textBlob_polar = []\n",
    "textBlob_subj = []\n",
    "\n",
    "for i in range(0, len(abstract_corpus)):\n",
    "    polarity, subjectivity = get_textBlob_score(abstract_corpus[i])\n",
    "    textBlob_polar.append(polarity)\n",
    "    textBlob_subj.append(subjectivity)"
   ]
  },
  {
   "cell_type": "code",
   "execution_count": null,
   "metadata": {},
   "outputs": [],
   "source": [
    "print(\"Min score:\", min(textBlob_polar))\n",
    "print(\"Max score:\", max(textBlob_polar))\n",
    "print(\"Length:\",len(textBlob_polar))\n",
    "\n",
    "print(\"Min score:\", min(textBlob_subj))\n",
    "print(\"Max score:\", max(textBlob_subj))\n",
    "print(\"Length:\",len(textBlob_subj))"
   ]
  },
  {
   "cell_type": "code",
   "execution_count": null,
   "metadata": {},
   "outputs": [],
   "source": []
  },
  {
   "cell_type": "markdown",
   "metadata": {},
   "source": [
    "### Distribution from Textblob"
   ]
  },
  {
   "cell_type": "code",
   "execution_count": null,
   "metadata": {},
   "outputs": [],
   "source": [
    "data = textBlob_polar\n",
    "num_bins = 40 # <- number of bins for the histogram\n",
    "plt.hist(data, num_bins)\n",
    "plt.title(\"Histogram of Textblob Abstract Polarity\")\n",
    "plt.show()\n",
    "\n",
    "data = textBlob_subj\n",
    "num_bins = 40 # <- number of bins for the histogram\n",
    "plt.hist(data, num_bins)\n",
    "plt.title(\"Histogram of Textblob Abstract Subjectivity\")\n",
    "plt.show()"
   ]
  },
  {
   "cell_type": "markdown",
   "metadata": {},
   "source": [
    "### Zip lists together - Abstracts Textblob"
   ]
  },
  {
   "cell_type": "code",
   "execution_count": null,
   "metadata": {},
   "outputs": [],
   "source": [
    "abstract_textblob = pd.DataFrame(list(zip(abstract_corpus, textBlob_polar, textBlob_subj)),\n",
    "                        columns = [\"Abstracts\",'Polarity','Subjectivity'])\n",
    "\n",
    "abstract_textblob"
   ]
  },
  {
   "cell_type": "code",
   "execution_count": null,
   "metadata": {},
   "outputs": [],
   "source": [
    "# Determine Overall Sentiment\n",
    "abstract_textblob['Sentiment'] = \"Neutral\"\n",
    "abstract_textblob.loc[abstract_textblob['Polarity'] < 0, 'Sentiment'] = 'Negative' \n",
    "abstract_textblob.loc[abstract_textblob['Polarity'] > 0, 'Sentiment'] = 'Positive'\n",
    "\n",
    "# Determine POS, NEG, NEU binary columns\n",
    "abstract_textblob['POS'] = 0\n",
    "abstract_textblob.loc[abstract_textblob['Sentiment'] == \"Positive\", \"POS\"] = 1\n",
    "\n",
    "abstract_textblob['NEG'] = 0\n",
    "abstract_textblob.loc[abstract_textblob['Sentiment'] == \"Negative\", \"NEG\"] = 1\n",
    "\n",
    "abstract_textblob['NEU'] = 0\n",
    "abstract_textblob.loc[abstract_textblob['Sentiment'] == \"Neutral\", \"NEU\"] = 1\n",
    "\n",
    "abstract_textblob.head()"
   ]
  },
  {
   "cell_type": "markdown",
   "metadata": {},
   "source": [
    "### Merge Datasets for Abstracts + Textblob"
   ]
  },
  {
   "cell_type": "code",
   "execution_count": null,
   "metadata": {},
   "outputs": [],
   "source": [
    "recent_textblob_abs = pd.concat([recent_meta, abstract_textblob], axis = 1)\n",
    "\n",
    "recent_textblob_abs.head()"
   ]
  },
  {
   "cell_type": "markdown",
   "metadata": {},
   "source": [
    "### Group by week charts for Polarity & Subjectivity"
   ]
  },
  {
   "cell_type": "code",
   "execution_count": null,
   "metadata": {},
   "outputs": [],
   "source": [
    "polarity_by_week = recent_textblob_abs[['weekStart','Polarity']].groupby('weekStart').median()\n",
    "polarity_by_week = polarity_by_week.reset_index()\n",
    "\n",
    "x = polarity_by_week['weekStart']\n",
    "y = polarity_by_week['Polarity']\n",
    "\n",
    "plt.ylabel(\"Average Polarity Score\")\n",
    "plt.xlabel(\"Week of publication\")\n",
    "plt.title(\"Average Polarity Score, 2019 - 2020, COVID Abstracts\")\n",
    "plt.plot(x, y)\n",
    "plt.show()"
   ]
  },
  {
   "cell_type": "code",
   "execution_count": null,
   "metadata": {},
   "outputs": [],
   "source": [
    "subjectivity_by_week = recent_textblob_abs[['weekStart','Subjectivity']].groupby('weekStart').median()\n",
    "subjectivity_by_week = subjectivity_by_week.reset_index()\n",
    "\n",
    "x = subjectivity_by_week['weekStart']\n",
    "y = subjectivity_by_week['Subjectivity']\n",
    "\n",
    "plt.ylabel(\"Average Subjectivity Score\")\n",
    "plt.xlabel(\"Week of publication\")\n",
    "plt.title(\"Average Subjectivity Score, 2019 - 2020, COVID Abstracts\")\n",
    "plt.plot(x, y)\n",
    "plt.show()"
   ]
  },
  {
   "cell_type": "markdown",
   "metadata": {},
   "source": [
    "### Textblob Sentiment Grouping over the year"
   ]
  },
  {
   "cell_type": "code",
   "execution_count": null,
   "metadata": {},
   "outputs": [],
   "source": [
    "recent_textblob_abs[['weekStart', 'Sentiment']].groupby(['Sentiment']).count().reset_index()"
   ]
  },
  {
   "cell_type": "markdown",
   "metadata": {},
   "source": [
    "### Textblob Weekly Sentiment "
   ]
  },
  {
   "cell_type": "code",
   "execution_count": null,
   "metadata": {},
   "outputs": [],
   "source": [
    "weekly_sentiment_abstracts = recent_textblob_abs[['weekStart', 'POS','NEU','NEG']].groupby('weekStart').sum().reset_index()\n",
    "\n",
    "plt.plot('weekStart', 'POS', data = weekly_sentiment_abstracts, color = 'skyblue', label = \"Positive\")\n",
    "plt.plot('weekStart', 'NEG', data = weekly_sentiment_abstracts, color = 'darkred', label = \"Negative\")\n",
    "plt.plot('weekStart', 'NEU', data = weekly_sentiment_abstracts, color = 'springgreen', label = 'Neutral')\n",
    "\n",
    "plt.xlabel(\"Week of Publication\")\n",
    "plt.ylabel(\"Count of publications\")\n",
    "plt.legend()\n",
    "plt.title(\"Sentiment of Titles written about COVID-19 using Textblob Polarity Score\")\n",
    "plt.show()"
   ]
  },
  {
   "cell_type": "code",
   "execution_count": null,
   "metadata": {},
   "outputs": [],
   "source": [
    "weekly_sentiment_titles.head()"
   ]
  },
  {
   "cell_type": "markdown",
   "metadata": {},
   "source": [
    "## (IV.ii) Textblob on Titles Corpus"
   ]
  },
  {
   "cell_type": "code",
   "execution_count": null,
   "metadata": {},
   "outputs": [],
   "source": [
    "def get_textBlob_score(sent):\n",
    "    # This polarity score is between -1 to 1\n",
    "    polarity = TextBlob(sent).sentiment.polarity\n",
    "    subjectivity = TextBlob(sent).sentiment.subjectivity\n",
    "    return polarity, subjectivity"
   ]
  },
  {
   "cell_type": "code",
   "execution_count": null,
   "metadata": {},
   "outputs": [],
   "source": [
    "textBlob_polar = []\n",
    "textBlob_subj = []\n",
    "\n",
    "for i in range(0, len(title_corpus)):\n",
    "    polarity, subjectivity = get_textBlob_score(title_corpus[i])\n",
    "    textBlob_polar.append(polarity)\n",
    "    textBlob_subj.append(subjectivity)"
   ]
  },
  {
   "cell_type": "code",
   "execution_count": null,
   "metadata": {},
   "outputs": [],
   "source": [
    "print(\"Min score:\", min(textBlob_polar))\n",
    "print(\"Max score:\", max(textBlob_polar))\n",
    "print(\"Length:\",len(textBlob_polar))\n",
    "\n",
    "print(\"Min score:\", min(textBlob_subj))\n",
    "print(\"Max score:\", max(textBlob_subj))\n",
    "print(\"Length:\",len(textBlob_subj))"
   ]
  },
  {
   "cell_type": "markdown",
   "metadata": {},
   "source": [
    "### Data from Textblob - Titles Histogram "
   ]
  },
  {
   "cell_type": "code",
   "execution_count": null,
   "metadata": {},
   "outputs": [],
   "source": [
    "data = textBlob_polar\n",
    "num_bins = 40 # <- number of bins for the histogram\n",
    "plt.hist(data, num_bins)\n",
    "plt.title(\"Histogram of Textblob Title Polarity\")\n",
    "plt.show()\n",
    "\n",
    "data = textBlob_subj\n",
    "num_bins = 40 # <- number of bins for the histogram\n",
    "plt.hist(data, num_bins)\n",
    "plt.title(\"Histogram of Textblob Title Subjectivity\")\n",
    "plt.show()"
   ]
  },
  {
   "cell_type": "markdown",
   "metadata": {},
   "source": [
    "Histograms of Titles by Textblob confirm that Titles are much less subjective and much more neutral than Abstracts"
   ]
  },
  {
   "cell_type": "code",
   "execution_count": null,
   "metadata": {},
   "outputs": [],
   "source": [
    "title_textblob = pd.DataFrame(list(zip(title_corpus, textBlob_polar, textBlob_subj)),\n",
    "                        columns = [\"Titles\",'Polarity','Subjectivity'])\n",
    "\n",
    "title_textblob"
   ]
  },
  {
   "cell_type": "code",
   "execution_count": null,
   "metadata": {},
   "outputs": [],
   "source": [
    "# Determine Overall Sentiment\n",
    "title_textblob['Sentiment'] = \"Neutral\"\n",
    "title_textblob.loc[title_textblob['Polarity'] < 0, 'Sentiment'] = 'Negative' \n",
    "title_textblob.loc[title_textblob['Polarity'] > 0, 'Sentiment'] = 'Positive'\n",
    "\n",
    "# Determine POS, NEG, NEU binary columns\n",
    "title_textblob['POS'] = 0\n",
    "title_textblob.loc[title_textblob['Sentiment'] == \"Positive\", \"POS\"] = 1\n",
    "\n",
    "title_textblob['NEG'] = 0\n",
    "title_textblob.loc[title_textblob['Sentiment'] == \"Negative\", \"NEG\"] = 1\n",
    "\n",
    "title_textblob['NEU'] = 0\n",
    "title_textblob.loc[title_textblob['Sentiment'] == \"Neutral\", \"NEU\"] = 1\n",
    "\n",
    "title_textblob.head()"
   ]
  },
  {
   "cell_type": "markdown",
   "metadata": {},
   "source": [
    "### Merge Datasets "
   ]
  },
  {
   "cell_type": "code",
   "execution_count": null,
   "metadata": {},
   "outputs": [],
   "source": [
    "recent_textblob_tits = pd.concat([recent_meta, title_textblob], axis = 1)\n",
    "\n",
    "recent_textblob_tits.head(3)"
   ]
  },
  {
   "cell_type": "markdown",
   "metadata": {},
   "source": [
    "### Group by week for Polarity and Subjectivity"
   ]
  },
  {
   "cell_type": "code",
   "execution_count": null,
   "metadata": {},
   "outputs": [],
   "source": [
    "polarity_by_week = recent_textblob_tits[['weekStart','Polarity']].groupby('weekStart').median()\n",
    "polarity_by_week = polarity_by_week.reset_index()\n",
    "\n",
    "x = polarity_by_week['weekStart']\n",
    "y = polarity_by_week['Polarity']\n",
    "\n",
    "plt.ylabel(\"Average Polarity Score\")\n",
    "plt.xlabel(\"Week of publication\")\n",
    "plt.title(\"Average Polarity Score, 2019 - 2020, COVID Titles\")\n",
    "plt.plot(x, y)\n",
    "plt.show()"
   ]
  },
  {
   "cell_type": "code",
   "execution_count": null,
   "metadata": {},
   "outputs": [],
   "source": [
    "subjectivity_by_week = recent_textblob_tits[['weekStart','Subjectivity']].groupby('weekStart').median()\n",
    "subjectivity_by_week = subjectivity_by_week.reset_index()\n",
    "\n",
    "x = subjectivity_by_week['weekStart']\n",
    "y = subjectivity_by_week['Subjectivity']\n",
    "\n",
    "plt.ylabel(\"Average Subjectivity Score\")\n",
    "plt.xlabel(\"Week of publication\")\n",
    "plt.title(\"Average Subjectivity Score, 2019 - 2020, COVID Titles\")\n",
    "plt.plot(x, y)\n",
    "plt.show()"
   ]
  },
  {
   "cell_type": "markdown",
   "metadata": {},
   "source": [
    "### Sentiment over the year - Titles with Texblob"
   ]
  },
  {
   "cell_type": "code",
   "execution_count": null,
   "metadata": {},
   "outputs": [],
   "source": [
    "recent_textblob_tits[['weekStart', 'Sentiment']].groupby(['Sentiment']).count().reset_index()"
   ]
  },
  {
   "cell_type": "code",
   "execution_count": null,
   "metadata": {},
   "outputs": [],
   "source": [
    "weekly_sentiment_titles = recent_textblob_tits[['weekStart', 'POS','NEU','NEG']].groupby('weekStart').sum().reset_index()\n",
    "\n",
    "plt.plot('weekStart', 'POS', data = weekly_sentiment_titles, color = 'skyblue', label = \"Positive\")\n",
    "plt.plot('weekStart', 'NEG', data = weekly_sentiment_titles, color = 'darkred', label = \"Negative\")\n",
    "plt.plot('weekStart', 'NEU', data = weekly_sentiment_titles, color = 'springgreen', label = 'Neutral')\n",
    "\n",
    "plt.xlabel(\"Week of Publication\")\n",
    "plt.ylabel(\"Count of publications\")\n",
    "plt.legend()\n",
    "plt.title(\"Sentiment of Titles written about COVID-19 using Textblob Polarity Score\")\n",
    "plt.show()"
   ]
  },
  {
   "cell_type": "markdown",
   "metadata": {},
   "source": [
    "### Compare the Sentiments of Abstracts & Titles, week by week with Textblob"
   ]
  },
  {
   "cell_type": "code",
   "execution_count": null,
   "metadata": {},
   "outputs": [],
   "source": [
    "# Merge together these dataframes with weekly counts of sentiment \n",
    "sentiments_abs_tits_text = pd.merge(weekly_sentiment_abstracts, weekly_sentiment_titles, how = 'left', on = 'weekStart')\n",
    "\n",
    "sentiments_abs_tits_text.rename(columns = \n",
    "                           {'POS_x':'POS_abstracts','POS_y':'POS_titles',\n",
    "                           'NEU_x':'NEU_abstracts', 'NEU_y':'NEU_titles',\n",
    "                           'NEG_x': 'NEG_abstracts', 'NEG_y': 'NEG_titles'},\n",
    "                           inplace=True)\n",
    "sentiments_abs_tits_text.head()"
   ]
  },
  {
   "cell_type": "code",
   "execution_count": null,
   "metadata": {},
   "outputs": [],
   "source": [
    "plt.plot('weekStart', 'POS_abstracts', data = sentiments_abs_tits_text, color = 'skyblue', label = \"Abstracts (+)\")\n",
    "plt.plot('weekStart', 'POS_titles', data = sentiments_abs_tits_text, color = 'skyblue', linestyle = 'dashed', label = 'Titles (+)')\n",
    "plt.plot('weekStart', 'NEG_abstracts', data = sentiments_abs_tits_text, color = 'darkred', label = \"Abstracts (-)\")\n",
    "plt.plot('weekStart', 'NEG_titles', data = sentiments_abs_tits_text, color = 'darkred', linestyle = 'dashed', label = \"Titles (-)\")\n",
    "plt.plot('weekStart', 'NEU_abstracts', data = sentiments_abs_tits_text, color = 'springgreen', label = \"Abstracts (0)\")\n",
    "plt.plot('weekStart', 'NEU_titles', data = sentiments_abs_tits_text, color = 'springgreen', linestyle = 'dashed', label = \"Titles (0)\")\n",
    "\n",
    "plt.xlabel(\"Week of Publication\")\n",
    "plt.ylabel(\"Count of publications\")\n",
    "plt.legend()\n",
    "plt.title(\"Sentiment Comparison between Titles and Abstracts about COVID-19 using Textblob Polarity Score\")\n",
    "plt.show()"
   ]
  },
  {
   "cell_type": "code",
   "execution_count": null,
   "metadata": {},
   "outputs": [],
   "source": []
  },
  {
   "cell_type": "code",
   "execution_count": null,
   "metadata": {},
   "outputs": [],
   "source": [
    "plt.plot('weekStart', 'POS_abstracts', data = sentiments_abs_tits_text, color = 'skyblue', label = \"Abstracts (+)\")\n",
    "plt.plot('weekStart', 'POS_titles', data = sentiments_abs_tits_text, color = 'skyblue', linestyle = 'dashed', label = 'Titles (+)')\n",
    "plt.xlabel(\"Week of Publication\")\n",
    "plt.ylabel(\"Count of publications\")\n",
    "plt.legend()\n",
    "plt.title(\"Sentiment Comparison between Titles and Abstracts about COVID-19 using Textblob Polarity Score\")\n",
    "plt.show()\n",
    "\n",
    "plt.plot('weekStart', 'NEG_abstracts', data = sentiments_abs_tits_text, color = 'darkred', label = \"Abstracts (-)\")\n",
    "plt.plot('weekStart', 'NEG_titles', data = sentiments_abs_tits_text, color = 'darkred', linestyle = 'dashed', label = \"Titles (-)\")\n",
    "plt.xlabel(\"Week of Publication\")\n",
    "plt.ylabel(\"Count of publications\")\n",
    "plt.legend()\n",
    "plt.title(\"Sentiment Comparison between Titles and Abstracts about COVID-19 using Textblob Polarity Score\")\n",
    "plt.show()\n",
    "\n",
    "\n",
    "plt.plot('weekStart', 'NEU_abstracts', data = sentiments_abs_tits_text, color = 'springgreen', label = \"Abstracts (0)\")\n",
    "plt.plot('weekStart', 'NEU_titles', data = sentiments_abs_tits_text, color = 'springgreen', linestyle = 'dashed', label = \"Titles (0)\")\n",
    "plt.xlabel(\"Week of Publication\")\n",
    "plt.ylabel(\"Count of publications\")\n",
    "plt.legend()\n",
    "plt.title(\"Sentiment Comparison between Titles and Abstracts about COVID-19 using Textblob Polarity Score\")\n",
    "plt.show()"
   ]
  },
  {
   "cell_type": "markdown",
   "metadata": {},
   "source": [
    "Similar to NLTK Vader, we see that Textblob Polarity score shows that Titles are far more neutral than Abstracts. "
   ]
  },
  {
   "cell_type": "code",
   "execution_count": null,
   "metadata": {},
   "outputs": [],
   "source": [
    "#sentiments_abs_tits_vader.head()"
   ]
  },
  {
   "cell_type": "code",
   "execution_count": null,
   "metadata": {},
   "outputs": [],
   "source": [
    "#sentiments_abs_tits_text.head()"
   ]
  },
  {
   "cell_type": "code",
   "execution_count": null,
   "metadata": {},
   "outputs": [],
   "source": [
    "sentiments_vader_text =  pd.merge(sentiments_abs_tits_vader, sentiments_abs_tits_text, how = 'left', on = 'weekStart')\n",
    "\n",
    "\n",
    "sentiments_vader_text.rename(columns = \n",
    "                           {'POS_abstracts_x':'POS_abstracts_vader','POS_abstracts_y':'POS_abstracts_text',\n",
    "                            'POS_titles_x':'POS_titles_vader','POS_titles_y':'POS_titles_text',\n",
    "                            'NEU_abstracts_x':'NEU_abstracts_vader','NEU_abstracts_y':'NEU_abstracts_text',\n",
    "                            'NEU_titles_x':'NEU_titles_vader','NEU_titles_y':'NEU_titles_text',\n",
    "                            'NEG_abstracts_x':'NEG_abstracts_vader','NEG_abstracts_y':'NEG_abstracts_text',\n",
    "                            'NEG_titles_x':'NEG_titles_vader','NEG_titles_y':'NEG_titles_text',\n",
    "                           },\n",
    "                           inplace=True)\n",
    "sentiments_vader_text.head()"
   ]
  },
  {
   "cell_type": "code",
   "execution_count": null,
   "metadata": {},
   "outputs": [],
   "source": [
    "plt.plot('weekStart', 'POS_abstracts_vader', data = sentiments_vader_text, color = 'skyblue', linestyle = 'dotted', label = \"Vader Abstracts (+)\")\n",
    "plt.plot('weekStart', 'POS_titles_vader', data = sentiments_vader_text, color = 'skyblue', linestyle = 'solid', label = 'Vader Titles (+)')\n",
    "plt.plot('weekStart', 'POS_abstracts_text', data = sentiments_vader_text, color = 'skyblue', linestyle = 'dashdot',label = \"Textblob Abstracts (+)\")\n",
    "plt.plot('weekStart', 'POS_titles_text', data = sentiments_vader_text, color = 'skyblue', linestyle = 'dashed', label = 'Textblob Titles (+)')\n",
    "\n",
    "plt.xlabel(\"Week of Publication\")\n",
    "plt.ylabel(\"Count of publications\")\n",
    "plt.legend()\n",
    "plt.title(\"Sentiment Comparison between Titles and Abstracts about COVID-19 \\n using Textblob Polarity and NLTK Vader Compound Scores\")\n",
    "plt.show()"
   ]
  },
  {
   "cell_type": "code",
   "execution_count": null,
   "metadata": {},
   "outputs": [],
   "source": [
    "plt.plot('weekStart', 'NEG_abstracts_vader', data = sentiments_vader_text, color = 'darkred', linestyle = 'dotted', label = \"Vader Abstracts (+)\")\n",
    "plt.plot('weekStart', 'NEG_titles_vader', data = sentiments_vader_text, color = 'darkred', linestyle = 'solid', label = 'Vader Titles (+)')\n",
    "plt.plot('weekStart', 'NEG_abstracts_text', data = sentiments_vader_text, color = 'darkred', linestyle = 'dashdot',label = \"Textblob Abstracts (+)\")\n",
    "plt.plot('weekStart', 'NEG_titles_text', data = sentiments_vader_text, color = 'darkred', linestyle = 'dashed', label = 'Textblob Titles (+)')\n",
    "\n",
    "plt.xlabel(\"Week of Publication\")\n",
    "plt.ylabel(\"Count of publications\")\n",
    "plt.legend()\n",
    "plt.title(\"Sentiment Comparison between Titles and Abstracts about COVID-19 \\n using Textblob Polarity and NLTK Vader Compound Scores\")\n",
    "plt.show()"
   ]
  },
  {
   "cell_type": "code",
   "execution_count": null,
   "metadata": {},
   "outputs": [],
   "source": [
    "plt.plot('weekStart', 'NEU_abstracts_vader', data = sentiments_vader_text, color = 'springgreen', linestyle = 'dotted', label = \"Vader Abstracts (+)\")\n",
    "plt.plot('weekStart', 'NEU_titles_vader', data = sentiments_vader_text, color = 'springgreen', linestyle = 'solid', label = 'Vader Titles (+)')\n",
    "plt.plot('weekStart', 'NEU_abstracts_text', data = sentiments_vader_text, color = 'springgreen', linestyle = 'dashdot',label = \"Textblob Abstracts (+)\")\n",
    "plt.plot('weekStart', 'NEU_titles_text', data = sentiments_vader_text, color = 'springgreen', linestyle = 'dashed', label = 'Textblob Titles (+)')\n",
    "\n",
    "plt.xlabel(\"Week of Publication\")\n",
    "plt.ylabel(\"Count of publications\")\n",
    "plt.legend()\n",
    "plt.title(\"Sentiment Comparison between Titles and Abstracts about COVID-19 \\n using Textblob Polarity and NLTK Vader Compound Scores\")\n",
    "plt.show()"
   ]
  },
  {
   "cell_type": "code",
   "execution_count": null,
   "metadata": {},
   "outputs": [],
   "source": [
    "recent_meta.head()"
   ]
  },
  {
   "cell_type": "markdown",
   "metadata": {},
   "source": [
    "## (V) Read in JSON files for body of articles\n",
    "\n",
    "### We already know how the additional words from the abstracts give us more information that the titles themselves. Therefore, the longer length of the full body of text from articles will allow us to cluster topics together and provide overall sentiment"
   ]
  },
  {
   "cell_type": "code",
   "execution_count": null,
   "metadata": {},
   "outputs": [],
   "source": [
    "#rootfolder = \"/Users/amandahutter/Documents/PythonCode/KaggleFiles/COVID/CORD-19-research-challenge\"\n",
    "#os.chdir(rootfolder)\n",
    "#os.listdir()"
   ]
  },
  {
   "cell_type": "code",
   "execution_count": null,
   "metadata": {},
   "outputs": [],
   "source": [
    "all_json = glob.glob(f'{rootfolder}/**/*.json', recursive=True)\n",
    "len(all_json)"
   ]
  },
  {
   "cell_type": "markdown",
   "metadata": {},
   "source": [
    "## Check JSON Schema "
   ]
  },
  {
   "cell_type": "code",
   "execution_count": null,
   "metadata": {},
   "outputs": [],
   "source": [
    "type(all_json)"
   ]
  },
  {
   "cell_type": "code",
   "execution_count": null,
   "metadata": {},
   "outputs": [],
   "source": [
    "type(all_json[0])"
   ]
  },
  {
   "cell_type": "code",
   "execution_count": null,
   "metadata": {},
   "outputs": [],
   "source": [
    "all_json[0]"
   ]
  },
  {
   "cell_type": "markdown",
   "metadata": {},
   "source": [
    "### Within the metadata key, there is the title of the paper. We can use this to connect with our prior title & abstract investigations"
   ]
  },
  {
   "cell_type": "code",
   "execution_count": null,
   "metadata": {},
   "outputs": [],
   "source": [
    "## Example from many Kaggle notebooks: \n",
    "\n",
    "with open(all_json[0]) as file:\n",
    "    content = json.load(file) # content is a Dictionary\n",
    "    print(json.dumps(content, indent=4))\n",
    "    "
   ]
  },
  {
   "cell_type": "markdown",
   "metadata": {},
   "source": [
    "Get the keys in content dictionary"
   ]
  },
  {
   "cell_type": "code",
   "execution_count": null,
   "metadata": {},
   "outputs": [],
   "source": [
    "with open(all_json[0]) as file:\n",
    "    content = json.load(file) # content is a Dictionary\n",
    "    for key,var in content.items():\n",
    "        print(key)"
   ]
  },
  {
   "cell_type": "markdown",
   "metadata": {},
   "source": [
    "Examine Metadata key"
   ]
  },
  {
   "cell_type": "code",
   "execution_count": null,
   "metadata": {},
   "outputs": [],
   "source": [
    "with open(all_json[0]) as file:\n",
    "    content = json.load(file) # first_entry is a Dictionary\n",
    "    meta = content['metadata'] # metadata key contains title, the metadata is a dict too\n",
    "    print(meta)\n",
    "    title = meta['title']\n",
    "    print(\"\\n\" + title)"
   ]
  },
  {
   "cell_type": "code",
   "execution_count": null,
   "metadata": {},
   "outputs": [],
   "source": []
  },
  {
   "cell_type": "markdown",
   "metadata": {},
   "source": [
    "### Need to find the right dictionary keys to use when loading; the format on most Kaggle entries no longer is usable. access the content and then 'ref_entries' and then within each dictionary, access the 'text'"
   ]
  },
  {
   "cell_type": "markdown",
   "metadata": {},
   "source": [
    "all_json[0] has nothing in the 'body_text' tag, but it does have text in the 'ref_entries' tag"
   ]
  },
  {
   "cell_type": "code",
   "execution_count": null,
   "metadata": {},
   "outputs": [],
   "source": [
    "ref_entries = []\n",
    "with open(all_json[0]) as file:\n",
    "    content = json.load(file) \n",
    "    for key, var in content['ref_entries'].items(): \n",
    "        #print(key) # string key \n",
    "        #print(var) # dictionary, get the 'text' key\n",
    "        #print(var['text'])\n",
    "        ref_entries.append(var['text'])\n",
    "        \n",
    "print(ref_entries)"
   ]
  },
  {
   "cell_type": "markdown",
   "metadata": {},
   "source": [
    "all_json[1] however, only has text in the \"body_text\" tag "
   ]
  },
  {
   "cell_type": "code",
   "execution_count": null,
   "metadata": {},
   "outputs": [],
   "source": [
    "ref_entries = []\n",
    "with open(all_json[1]) as file:\n",
    "    content = json.load(file) \n",
    "    for key,var in content.items():\n",
    "        print(key)\n",
    "        print(var)\n",
    "        \n"
   ]
  },
  {
   "cell_type": "code",
   "execution_count": null,
   "metadata": {},
   "outputs": [],
   "source": [
    "class FileReader:\n",
    "    def __init__(self, file_path):\n",
    "        with open(file_path) as file:\n",
    "            content = json.load(file)\n",
    "            self.paper_id = content['paper_id']\n",
    "            self.abstract = []\n",
    "            self.body_text = []\n",
    "            self.ref_entries = []\n",
    "            # Abstract\n",
    "            #for entry in content['abstract']:\n",
    "            #    self.abstract.append(entry['text'])\n",
    "            #Body text\n",
    "            for entry in content['body_text']:\n",
    "                self.body_text.append(entry['text'])\n",
    "            # Ref Entries\n",
    "            for key, var in content['ref_entries'].items(): \n",
    "                self.ref_entries.append(var['text'])\n",
    "            self.abstract = '\\n'.join(self.abstract)\n",
    "            self.body_text = '\\n'.join(self.body_text)\n",
    "            self.ref_entries = '\\n'.join(self.ref_entries)\n",
    "    def __repr__(self):\n",
    "        #return f'{self.paper_id}: {self.abstract[:200]}... {self.body_text[:200]}...'\n",
    "        #return f'{self.paper_id}:  {self.ref_entries[:200]}...'\n",
    "        return f'{self.paper_id}:  {self.abstract[:200]}... {self.ref_entries[:200]}... {self.body_text[:200]}...'\n"
   ]
  },
  {
   "cell_type": "code",
   "execution_count": null,
   "metadata": {},
   "outputs": [],
   "source": [
    "#first_row = FileReader(all_json[0])\n",
    "#print(first_row)\n",
    "\n",
    "second_row = FileReader(all_json[1])\n",
    "print(second_row)"
   ]
  },
  {
   "cell_type": "code",
   "execution_count": null,
   "metadata": {},
   "outputs": [],
   "source": [
    "FileReader(all_json[2])"
   ]
  },
  {
   "cell_type": "code",
   "execution_count": null,
   "metadata": {},
   "outputs": [],
   "source": [
    "FileReader(all_json[0])"
   ]
  },
  {
   "cell_type": "markdown",
   "metadata": {},
   "source": [
    "### There is no 'abstract' in these json files anymore "
   ]
  },
  {
   "cell_type": "markdown",
   "metadata": {},
   "source": [
    "This folder, the json files have no abstract:\n",
    "    - \"custom_license/custom_license/pdf_json\"\n",
    "    - \"noncomm_use_subset/noncomm_use_subset/pdf_json\"\n",
    "These folders, the json files do have abstracts:\n",
    "    - \"biorxiv_medrxiv/biorxiv_medrxiv/pdf_json\"\n",
    "    - \"comm_use_subset/comm_use_subset/pdf_json\""
   ]
  },
  {
   "cell_type": "markdown",
   "metadata": {},
   "source": [
    "### The following functions taken from Kaggle Literature Clustering"
   ]
  },
  {
   "cell_type": "markdown",
   "metadata": {},
   "source": [
    "### Bring the recent_meta dataframe into use: look for the text body of the 6500 articles from this past year"
   ]
  },
  {
   "cell_type": "code",
   "execution_count": null,
   "metadata": {},
   "outputs": [],
   "source": [
    "#dict_ = {'paper_id': [], 'abstract': [], 'body_text': []}\n",
    "\n",
    "dict_ = {'paper_id': [], 'body_text': [], 'ref_entries': []}\n",
    "for idx, entry in enumerate(all_json):\n",
    "    if idx % (len(all_json) // 10) == 0:\n",
    "        print(f'Processing index: {idx} of {len(all_json)}')\n",
    "    content = FileReader(entry)\n",
    "    dict_['paper_id'].append(content.paper_id)\n",
    "    #dict_['abstract'].append(content.abstract)\n",
    "    dict_['body_text'].append(content.body_text)\n",
    "    dict_['ref_entries'].append(content.ref_entries)\n",
    "\n",
    "df_covid = pd.DataFrame(dict_, columns=['paper_id', 'body_text', 'ref_entries'])\n",
    "df_covid = pd.DataFrame(dict_, columns=['paper_id', 'abstract', 'body_text'])\n",
    "df_covid.head()"
   ]
  },
  {
   "cell_type": "code",
   "execution_count": null,
   "metadata": {},
   "outputs": [],
   "source": [
    "df_covid.describe()"
   ]
  },
  {
   "cell_type": "code",
   "execution_count": null,
   "metadata": {},
   "outputs": [],
   "source": []
  },
  {
   "cell_type": "code",
   "execution_count": null,
   "metadata": {},
   "outputs": [],
   "source": []
  },
  {
   "cell_type": "code",
   "execution_count": null,
   "metadata": {},
   "outputs": [],
   "source": []
  },
  {
   "cell_type": "code",
   "execution_count": null,
   "metadata": {},
   "outputs": [],
   "source": [
    "def get_breaks(content, length):\n",
    "    data = \"\"\n",
    "    words = content.split(' ')\n",
    "    total_chars = 0\n",
    "\n",
    "    # add break every length characters\n",
    "    for i in range(len(words)):\n",
    "        total_chars += len(words[i])\n",
    "        if total_chars > length:\n",
    "            data = data + \"<br>\" + words[i]\n",
    "            total_chars = 0\n",
    "        else:\n",
    "            data = data + \" \" + words[i]\n",
    "    return data"
   ]
  },
  {
   "cell_type": "code",
   "execution_count": null,
   "metadata": {},
   "outputs": [],
   "source": [
    "dict_ = {'paper_id': [], 'doi':[], 'abstract': [], 'body_text': [], 'authors': [], 'title': [], 'journal': [], 'abstract_summary': []}\n",
    "for idx, entry in enumerate(all_json):\n",
    "    if idx % (len(all_json) // 10) == 0:\n",
    "        print(f'Processing index: {idx} of {len(all_json)}')\n",
    "    \n",
    "    try:\n",
    "        content = FileReader(entry)\n",
    "    except Exception as e:\n",
    "        continue  # invalid paper format, skip\n",
    "    \n",
    "    # get metadata information\n",
    "    meta_data = recent_meta.loc[recent_meta['sha'] == content.paper_id]\n",
    "    #meta_data = meta_df.loc[meta_df['sha'] == content.paper_id]\n",
    "    # no metadata, skip this paper\n",
    "    if len(meta_data) == 0:\n",
    "        continue\n",
    "    \n",
    "    dict_['abstract'].append(content.abstract)\n",
    "    dict_['paper_id'].append(content.paper_id)\n",
    "    dict_['body_text'].append(content.body_text)\n",
    "    \n",
    "    # also create a column for the summary of abstract to be used in a plot\n",
    "    if len(content.abstract) == 0: \n",
    "        # no abstract provided\n",
    "        dict_['abstract_summary'].append(\"Not provided.\")\n",
    "    elif len(content.abstract.split(' ')) > 100:\n",
    "        # abstract provided is too long for plot, take first 100 words append with ...\n",
    "        info = content.abstract.split(' ')[:100]\n",
    "        summary = get_breaks(' '.join(info), 40)\n",
    "        dict_['abstract_summary'].append(summary + \"...\")\n",
    "    else:\n",
    "        # abstract is short enough\n",
    "        summary = get_breaks(content.abstract, 40)\n",
    "        dict_['abstract_summary'].append(summary)\n",
    "        \n",
    "    # get metadata information\n",
    "    meta_data = recent_meta.loc[recent_meta['sha'] == content.paper_id]\n",
    "    #meta_data = meta_df.loc[meta_df['sha'] == content.paper_id]\n",
    "    \n",
    "    try:\n",
    "        # if more than one author\n",
    "        authors = meta_data['authors'].values[0].split(';')\n",
    "        if len(authors) > 2:\n",
    "            # if more than 2 authors, take them all with html tag breaks in between\n",
    "            dict_['authors'].append(get_breaks('. '.join(authors), 40))\n",
    "        else:\n",
    "            # authors will fit in plot\n",
    "            dict_['authors'].append(\". \".join(authors))\n",
    "    except Exception as e:\n",
    "        # if only one author - or Null valie\n",
    "        dict_['authors'].append(meta_data['authors'].values[0])\n",
    "    \n",
    "    # add the title information, add breaks when needed\n",
    "    try:\n",
    "        title = get_breaks(meta_data['title'].values[0], 40)\n",
    "        dict_['title'].append(title)\n",
    "    # if title was not provided\n",
    "    except Exception as e:\n",
    "        dict_['title'].append(meta_data['title'].values[0])\n",
    "        \n",
    "            # add the journal information\n",
    "dict_['journal'].append(meta_data['journal'].values[0])\n",
    "    \n",
    "    # add doi\n",
    "dict_['doi'].append(meta_data['doi'].values[0])\n",
    "    \n",
    "df_covid = pd.DataFrame(dict_, columns=['paper_id', 'doi', 'abstract', 'body_text', 'authors', 'title', 'journal', 'abstract_summary'])\n",
    "df_covid.head()"
   ]
  },
  {
   "cell_type": "code",
   "execution_count": null,
   "metadata": {},
   "outputs": [],
   "source": [
    "for k,v in dict_.items():\n",
    "    print(k)"
   ]
  },
  {
   "cell_type": "code",
   "execution_count": null,
   "metadata": {},
   "outputs": [],
   "source": []
  }
 ],
 "metadata": {
  "kernelspec": {
   "display_name": "Python 3",
   "language": "python",
   "name": "python3"
  },
  "language_info": {
   "codemirror_mode": {
    "name": "ipython",
    "version": 3
   },
   "file_extension": ".py",
   "mimetype": "text/x-python",
   "name": "python",
   "nbconvert_exporter": "python",
   "pygments_lexer": "ipython3",
   "version": "3.7.6"
  }
 },
 "nbformat": 4,
 "nbformat_minor": 2
}
